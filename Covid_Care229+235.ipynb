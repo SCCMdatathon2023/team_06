{
  "cells": [
    {
      "cell_type": "code",
      "source": [
        "%pip install tableone"
      ],
      "metadata": {
        "id": "vmwRN-Q5Ypf7",
        "colab": {
          "base_uri": "https://localhost:8080/"
        },
        "outputId": "bade2be3-d94f-4bdf-f378-3d9ee9b8c486"
      },
      "execution_count": null,
      "outputs": [
        {
          "output_type": "stream",
          "name": "stdout",
          "text": [
            "Requirement already satisfied: tableone in /usr/local/lib/python3.10/dist-packages (0.8.0)\n",
            "Requirement already satisfied: jinja2 in /usr/local/lib/python3.10/dist-packages (from tableone) (3.1.2)\n",
            "Requirement already satisfied: numpy in /usr/local/lib/python3.10/dist-packages (from tableone) (1.22.4)\n",
            "Requirement already satisfied: openpyxl in /usr/local/lib/python3.10/dist-packages (from tableone) (3.0.10)\n",
            "Requirement already satisfied: pandas in /usr/local/lib/python3.10/dist-packages (from tableone) (1.5.3)\n",
            "Requirement already satisfied: scipy in /usr/local/lib/python3.10/dist-packages (from tableone) (1.10.1)\n",
            "Requirement already satisfied: statsmodels in /usr/local/lib/python3.10/dist-packages (from tableone) (0.13.5)\n",
            "Requirement already satisfied: tabulate in /usr/local/lib/python3.10/dist-packages (from tableone) (0.9.0)\n",
            "Requirement already satisfied: MarkupSafe>=2.0 in /usr/local/lib/python3.10/dist-packages (from jinja2->tableone) (2.1.3)\n",
            "Requirement already satisfied: et-xmlfile in /usr/local/lib/python3.10/dist-packages (from openpyxl->tableone) (1.1.0)\n",
            "Requirement already satisfied: python-dateutil>=2.8.1 in /usr/local/lib/python3.10/dist-packages (from pandas->tableone) (2.8.2)\n",
            "Requirement already satisfied: pytz>=2020.1 in /usr/local/lib/python3.10/dist-packages (from pandas->tableone) (2022.7.1)\n",
            "Requirement already satisfied: patsy>=0.5.2 in /usr/local/lib/python3.10/dist-packages (from statsmodels->tableone) (0.5.3)\n",
            "Requirement already satisfied: packaging>=21.3 in /usr/local/lib/python3.10/dist-packages (from statsmodels->tableone) (23.1)\n",
            "Requirement already satisfied: six in /usr/local/lib/python3.10/dist-packages (from patsy>=0.5.2->statsmodels->tableone) (1.16.0)\n"
          ]
        }
      ]
    },
    {
      "cell_type": "code",
      "execution_count": null,
      "metadata": {
        "id": "X9uV1s8qQ3HN",
        "colab": {
          "base_uri": "https://localhost:8080/"
        },
        "outputId": "97564fc9-b378-411a-994f-47cb06adc69b"
      },
      "outputs": [
        {
          "output_type": "stream",
          "name": "stdout",
          "text": [
            "Authenticated\n",
            "The google.colab.data_table extension is already loaded. To reload it, use:\n",
            "  %reload_ext google.colab.data_table\n"
          ]
        }
      ],
      "source": [
        "import matplotlib.pyplot as plt\n",
        "import pandas as pd\n",
        "from google.colab import files\n",
        "from google.colab import auth\n",
        "auth.authenticate_user()\n",
        "print('Authenticated')\n",
        "\n",
        "%load_ext google.colab.data_table"
      ]
    },
    {
      "cell_type": "code",
      "source": [
        "# change this to change the right project\n",
        "%env GOOGLE_CLOUD_PROJECT = sccm-datathon-2023-participant"
      ],
      "metadata": {
        "id": "XsqB12wIMpE7",
        "colab": {
          "base_uri": "https://localhost:8080/"
        },
        "outputId": "cc532dd4-3f5b-402b-9fe0-9a55f1282b77"
      },
      "execution_count": null,
      "outputs": [
        {
          "output_type": "stream",
          "name": "stdout",
          "text": [
            "env: GOOGLE_CLOUD_PROJECT=sccm-datathon-2023-participant\n"
          ]
        }
      ]
    },
    {
      "cell_type": "code",
      "source": [
        "# example MIMIC-IV table 1 code here\n",
        "%%bigquery core4 --project sccm-datathon-2023-participant\n",
        "SELECT * FROM `sccm-discovery.VIRUS.coredata4` adm"
      ],
      "metadata": {
        "id": "ga0MnT-IL6KC",
        "colab": {
          "base_uri": "https://localhost:8080/",
          "height": 81,
          "referenced_widgets": [
            "450adccd60a84caa963881609173f668",
            "3bf0a06a9e12407f9becdd8a4f9d3d0e",
            "0c6e2be0558040b3908780fea28582ce",
            "0284ef3afa3e4e8ba5d0f78d39a6a6f0",
            "2ed1b6a76bbb497d8e4e82023816d896",
            "b0958ec8df514960930099f301746f96",
            "375ef42adf344cf7b2ee2ff275903d5b",
            "84b30ecb795b42da88b3e0feac873264",
            "c8673725046542fa9df5c691aed9ef4e",
            "b9a642493b104625b40f96abd1b6b9d2",
            "a4b2711b0a72456b9032772760813213",
            "4afdbc14487a49d9b039587b51444e68",
            "8bee1f1003b04756878c13b998fd59bc",
            "21f9e58cbc0f43aa8ce43b013563fc83",
            "886e362cbe0e48d0b18a31adfb4c4ad3",
            "1383c009cf6f41b589321f283f62f11a",
            "0acc9c6e31f348bb9ba8ee29d8cc25f4",
            "1bf205c1a05f4a4980033752e28beff3",
            "87ca6daebe964de98e6b2bc3e18d6f03",
            "5e143c316fb74814aa7a1b09725e1c6f",
            "22f92df1b1ff405a995c4cf01d59c420",
            "48a2ad15f0b040719e4d3c113c3dc3d3"
          ]
        },
        "outputId": "bc1ac3b6-cb2d-4beb-d593-4b5b4d437c59"
      },
      "execution_count": null,
      "outputs": [
        {
          "output_type": "display_data",
          "data": {
            "text/plain": [
              "Query is running:   0%|          |"
            ],
            "application/vnd.jupyter.widget-view+json": {
              "version_major": 2,
              "version_minor": 0,
              "model_id": "450adccd60a84caa963881609173f668"
            }
          },
          "metadata": {}
        },
        {
          "output_type": "display_data",
          "data": {
            "text/plain": [
              "Downloading:   0%|          |"
            ],
            "application/vnd.jupyter.widget-view+json": {
              "version_major": 2,
              "version_minor": 0,
              "model_id": "4afdbc14487a49d9b039587b51444e68"
            }
          },
          "metadata": {}
        }
      ]
    },
    {
      "cell_type": "code",
      "source": [
        "%%bigquery VIRUS_demographics --project sccm-datathon-2023-participant\n",
        "SELECT * FROM `sccm-discovery.VIRUS.coredata1_2` adm"
      ],
      "metadata": {
        "colab": {
          "base_uri": "https://localhost:8080/",
          "height": 81,
          "referenced_widgets": [
            "f10faf5117f84efcad5c0cf106880a6a",
            "17c21aca05354b25910434e6dd4c3ade",
            "8ac479e7351d495cba20f609b57972ec",
            "f55060a380b948268c1713ae4e6d1c0a",
            "5af690640fdb4de3bec40ef070d58de0",
            "b04c20ffcaa446308c0ca3bee548447f",
            "d140262d503b4dfd969ca137ea2db32d",
            "eb40dc9ab49c4179bbaae374d71c3ca4",
            "6d1e94ca51ae424e98b94e459a4993e2",
            "31ce43781aa2447baf75e0eea39a79d0",
            "d75b9a53a7e8417fac8d333dd49dc0cc",
            "4b59ffc4f84d486681754c9ff0fb2445",
            "a587135c768e4d8981e3e73e371d9e7a",
            "ad45670c781844e5ab3afcd3ef28dd61",
            "546d84d5083744f5ac7cf642f2dc5c04",
            "b332ed1f41e5441b9f02a82f18ec7f36",
            "f7eb1d9f519f4da687e534054cbd50e4",
            "6a7253b172434762988face7595808cf",
            "322e7d0925c34e7ca909d5eabdf7901d",
            "9170640e2f9b49548b58eb3bc6c1611f",
            "8d545a9e8ee743f29efbe0fb002111f8",
            "f218222198f44e1380c7106eb0e1f3a6"
          ]
        },
        "id": "BZRPxrcnLuxB",
        "outputId": "c85a7be9-7f13-42a2-fa95-d0aedb18de5d"
      },
      "execution_count": null,
      "outputs": [
        {
          "output_type": "display_data",
          "data": {
            "text/plain": [
              "Query is running:   0%|          |"
            ],
            "application/vnd.jupyter.widget-view+json": {
              "version_major": 2,
              "version_minor": 0,
              "model_id": "f10faf5117f84efcad5c0cf106880a6a"
            }
          },
          "metadata": {}
        },
        {
          "output_type": "display_data",
          "data": {
            "text/plain": [
              "Downloading:   0%|          |"
            ],
            "application/vnd.jupyter.widget-view+json": {
              "version_major": 2,
              "version_minor": 0,
              "model_id": "4b59ffc4f84d486681754c9ff0fb2445"
            }
          },
          "metadata": {}
        }
      ]
    },
    {
      "cell_type": "code",
      "source": [
        "%%bigquery core7 --project sccm-datathon-2023-participant\n",
        "SELECT * FROM `sccm-discovery.VIRUS.coredata7` adm"
      ],
      "metadata": {
        "colab": {
          "base_uri": "https://localhost:8080/",
          "height": 81,
          "referenced_widgets": [
            "b313da3995574035824b4ab11a89f259",
            "3ce98b4fa3224bcb8f3f933185dd98c8",
            "89fe394e8b6240ce83d681a045b63e7d",
            "25334a9342d648408d3db27a20115261",
            "7f896c84129640c4a7118e89094b3ca8",
            "2d249f67797d4f7bb90d95d02ed5e23f",
            "3e1188f24d9648d0b61e297c6c128193",
            "5e8aa19481b444e99420f9e455b33d11",
            "989ae77bb0e9453b960c50a72e755632",
            "a476c46f58d04332aa34b0e69de0cc09",
            "c5b4cca253ac4f8c9eff44de6896d1d1",
            "018c9888baa34686aab6f556c7a88359",
            "d52c4937ccbf4ba4897363e1062ba6cb",
            "d276e9157d2c467eb65a767a95fb9229",
            "6328e6d34f8f4a0292a78c242c850e03",
            "e66edfb18a3549a0879376599ac07cc9",
            "e625e32c37384a2fb5a3141ad6c6d7d0",
            "ba3109633b794363bd2bc75208c8cef8",
            "1d7988870e5f45f4b57219bb6dc6cda2",
            "bc786f81eba44fb2a69312657ca94f83",
            "3e5834917b944f85a01e247b56f443bd",
            "4cb094d28b5d414dbeafcd069fd1ea95"
          ]
        },
        "id": "NXKP-NVdVuZc",
        "outputId": "47927049-f42b-47da-d738-b50adf53e462"
      },
      "execution_count": null,
      "outputs": [
        {
          "output_type": "display_data",
          "data": {
            "text/plain": [
              "Query is running:   0%|          |"
            ],
            "application/vnd.jupyter.widget-view+json": {
              "version_major": 2,
              "version_minor": 0,
              "model_id": "b313da3995574035824b4ab11a89f259"
            }
          },
          "metadata": {}
        },
        {
          "output_type": "display_data",
          "data": {
            "text/plain": [
              "Downloading:   0%|          |"
            ],
            "application/vnd.jupyter.widget-view+json": {
              "version_major": 2,
              "version_minor": 0,
              "model_id": "018c9888baa34686aab6f556c7a88359"
            }
          },
          "metadata": {}
        }
      ]
    },
    {
      "cell_type": "code",
      "source": [
        "core4=pd.DataFrame(core4)\n",
        "core7=pd.DataFrame(core7)\n",
        "core4.drop(columns='oxygenation_methods_2___0', inplace=True)\n",
        "core4.drop(columns='oxygenation_methods_2___4', inplace=True)\n",
        "core4.drop(columns='oxygenation_methods_2___7', inplace=True)\n",
        "core4.drop(columns='oxygenation_methods_2___2', inplace=True)\n",
        "core4.drop(columns='oxygenation_methods_2___1', inplace=True)\n",
        "core4.drop(columns='oxygenation_methods_2___6', inplace=True)\n",
        "\n",
        "VIRUS_demographics=pd.DataFrame(VIRUS_demographics)\n",
        "core4 = core4.drop_duplicates(subset='icu_id', keep='first')\n",
        "VIRUS_demographics = pd.merge(VIRUS_demographics, core4, on='icu_id', how='left')\n",
        "VIRUS_demographics = pd.merge(VIRUS_demographics, core7, on='icu_id', how='left')"
      ],
      "metadata": {
        "id": "iEAq4F8sLPZo"
      },
      "execution_count": null,
      "outputs": []
    },
    {
      "cell_type": "code",
      "source": [],
      "metadata": {
        "id": "5wN90AhiYoPl"
      },
      "execution_count": null,
      "outputs": []
    },
    {
      "cell_type": "code",
      "source": [
        "len(VIRUS_demographics)"
      ],
      "metadata": {
        "colab": {
          "base_uri": "https://localhost:8080/"
        },
        "id": "smSq08XvLWXY",
        "outputId": "653f75ad-f0fd-4bc1-bce3-bfb29e2b1cda"
      },
      "execution_count": null,
      "outputs": [
        {
          "output_type": "execute_result",
          "data": {
            "text/plain": [
              "92244"
            ]
          },
          "metadata": {},
          "execution_count": 29
        }
      ]
    },
    {
      "cell_type": "code",
      "source": [
        "VIRUS_demographics['sex'] = VIRUS_demographics['sex'].replace(1.0, 'Male')\n",
        "VIRUS_demographics['sex'] = VIRUS_demographics['sex'].replace(2.0, 'Female')\n",
        "VIRUS_demographics['sex'] = VIRUS_demographics['sex'].replace(3.0, 'Intersex')\n",
        "VIRUS_demographics['sex'] = VIRUS_demographics['sex'].replace(4.0, 'Transgender')\n",
        "VIRUS_demographics['race'] = VIRUS_demographics['race'].replace(1.0, 'Other')\n",
        "VIRUS_demographics['race'] = VIRUS_demographics['race'].replace(2.0, 'Other')\n",
        "VIRUS_demographics['race'] = VIRUS_demographics['race'].replace(3.0, 'Black')\n",
        "VIRUS_demographics['race'] = VIRUS_demographics['race'].replace(4.0, 'Other')\n",
        "VIRUS_demographics['race'] = VIRUS_demographics['race'].replace(5.0, 'White')\n",
        "VIRUS_demographics['race'] = VIRUS_demographics['race'].replace(6.0, 'Other')\n",
        "VIRUS_demographics['race'] = VIRUS_demographics['race'].replace(7.0, 'Other')\n",
        "VIRUS_demographics['race'] = VIRUS_demographics['race'].replace(8.0, 'Other')\n",
        "VIRUS_demographics['race'] = VIRUS_demographics['race'].replace(9.0, 'Other')\n",
        "VIRUS_demographics['race'] = VIRUS_demographics['race'].replace(10.0, 'Other')\n",
        "VIRUS_demographics['race'] = VIRUS_demographics['race'].replace(11.0, 'Other')\n",
        "VIRUS_demographics['race'] = VIRUS_demographics['race'].replace(12.0, 'Other')\n",
        "VIRUS_demographics['race'] = VIRUS_demographics['race'].replace(12.0, 'Other')\n",
        "\n",
        "VIRUS_demographics['ethnic_group'] = VIRUS_demographics['ethnic_group'].replace(1.0, 'Hispanic')\n",
        "VIRUS_demographics['ethnic_group'] = VIRUS_demographics['ethnic_group'].replace(0.0, 'Non-Hispanic')\n",
        "VIRUS_demographics['ethnic_group'] = VIRUS_demographics['ethnic_group'].replace(2.0, 'Non-Hispanic')\n",
        "VIRUS_demographics['ethnic_group'] = VIRUS_demographics['ethnic_group'].replace(3.0, 'Non-Hispanic')\n",
        "\n"
      ],
      "metadata": {
        "id": "32bwOcG_tBR7"
      },
      "execution_count": null,
      "outputs": []
    },
    {
      "cell_type": "code",
      "source": [
        "VIRUS_demographics=pd.DataFrame(VIRUS_demographics)"
      ],
      "metadata": {
        "id": "w3i7Q9n1RF4K"
      },
      "execution_count": null,
      "outputs": []
    },
    {
      "cell_type": "code",
      "source": [
        "VIRUS_demographics['oxygenation_methods_2___0'].unique()"
      ],
      "metadata": {
        "colab": {
          "base_uri": "https://localhost:8080/"
        },
        "id": "Ns2fRV1uYJZi",
        "outputId": "89353d03-7aaf-413e-a2b9-d676ba05c603"
      },
      "execution_count": null,
      "outputs": [
        {
          "output_type": "execute_result",
          "data": {
            "text/plain": [
              "<IntegerArray>\n",
              "[0, <NA>, 1]\n",
              "Length: 3, dtype: Int64"
            ]
          },
          "metadata": {},
          "execution_count": 32
        }
      ]
    },
    {
      "cell_type": "code",
      "source": [
        "VIRUS_demographics['WHOscore3']= ((VIRUS_demographics['oxygenation___9'] | (VIRUS_demographics['oxygenation_methods_2___0'])|VIRUS_demographics['icu_level_care___0']))\n"
      ],
      "metadata": {
        "id": "war-u1AqUxP2"
      },
      "execution_count": null,
      "outputs": []
    },
    {
      "cell_type": "code",
      "source": [
        "VIRUS_demographics['WHOscore4']= ((VIRUS_demographics['oxygenation___4'] | (VIRUS_demographics['oxygenation___5'])|VIRUS_demographics['oxygenation___6']|VIRUS_demographics['oxygenation_methods_2___4']|VIRUS_demographics['oxygenation_methods_2___7']))"
      ],
      "metadata": {
        "id": "phKjDd8_ZnFq"
      },
      "execution_count": null,
      "outputs": []
    },
    {
      "cell_type": "code",
      "source": [
        "VIRUS_demographics['WHOscore5']= ( (VIRUS_demographics['oxygenation___1'])|VIRUS_demographics['oxygenation___3']|VIRUS_demographics['oxygenation_methods_2___2']|VIRUS_demographics['oxygenation_methods_2___7'])"
      ],
      "metadata": {
        "id": "eoPsbdLuaPs0"
      },
      "execution_count": null,
      "outputs": []
    },
    {
      "cell_type": "code",
      "source": [
        "VIRUS_demographics['WHOscore6']= ((VIRUS_demographics['oxygenation___2'] | (VIRUS_demographics['oxygenation_methods_2___1'])|VIRUS_demographics['icu_level_care___4']))"
      ],
      "metadata": {
        "id": "hBco6QeDayM-"
      },
      "execution_count": null,
      "outputs": []
    },
    {
      "cell_type": "code",
      "source": [
        "VIRUS_demographics['icu_level_care___3'].unique()"
      ],
      "metadata": {
        "colab": {
          "base_uri": "https://localhost:8080/"
        },
        "id": "h16wF1dLcyr-",
        "outputId": "627f5438-b6cf-4fa1-848e-c3de625545c0"
      },
      "execution_count": null,
      "outputs": [
        {
          "output_type": "execute_result",
          "data": {
            "text/plain": [
              "<IntegerArray>\n",
              "[0, <NA>, 1]\n",
              "Length: 3, dtype: Int64"
            ]
          },
          "metadata": {},
          "execution_count": 37
        }
      ]
    },
    {
      "cell_type": "code",
      "source": [],
      "metadata": {
        "id": "JTVvfnAdmVns"
      },
      "execution_count": null,
      "outputs": []
    },
    {
      "cell_type": "code",
      "source": [],
      "metadata": {
        "colab": {
          "base_uri": "https://localhost:8080/",
          "height": 298
        },
        "id": "dK5MA4pZeWR5",
        "outputId": "7247ad09-12fc-4ea6-9e84-6542c19e9d67"
      },
      "execution_count": null,
    },
    {
      "cell_type": "code",
      "source": [
        "VIRUS_demographics['WHOscore7']= ((VIRUS_demographics['oxygenation_methods_2___6'])|\n",
        "                                   (VIRUS_demographics['icu_level_care___4'] & VIRUS_demographics['icu_level_care___3'])|\n",
        "                                    (VIRUS_demographics['icu_level_care___4'] & VIRUS_demographics['icu_level_care___2'])|\n",
        "                                     (VIRUS_demographics['icu_level_care___4'] & VIRUS_demographics['icu_level_care___6'])|\n",
        "                                       (VIRUS_demographics['icu_level_care___4'] & VIRUS_demographics['icu_level_care___9']))"
      ],
      "metadata": {
        "id": "W9mRzXZzbWZj"
      },
      "execution_count": null,
      "outputs": []
    },
    {
      "cell_type": "code",
      "source": [
        "VIRUS_demographics['WHOscore8']=VIRUS_demographics['icu_level_care___1']"
      ],
      "metadata": {
        "id": "7gjPB7-RcYiA"
      },
      "execution_count": null,
      "outputs": []
    },
    {
      "cell_type": "code",
      "source": [
        "cols=['icu_id','sex','bmi_value','WHO_Region','race','age','ethnic_group','day_prior_covid19_symptoms','days_prior_covid_testing','WHOscore3','WHOscore4','WHOscore5','WHOscore6','WHOscore7','WHOscore8']"
      ],
      "metadata": {
        "id": "Gl-ScxwBeNHB"
      },
      "execution_count": 63,
      "outputs": []
    },
    {
      "cell_type": "code",
      "source": [
        "newDF=VIRUS_demographics[cols]"
      ],
      "metadata": {
        "id": "kL35JEL4mcAr"
      },
      "execution_count": 64,
      "outputs": []
    },
    {
      "cell_type": "code",
      "source": [
        "newDF=newDF[VIRUS_demographics['days_prior_covid_testing']>0]\n"
      ],
      "metadata": {
        "id": "NG_Prmih1v-I"
      },
      "execution_count": 65,
      "outputs": []
    },
    {
      "cell_type": "code",
      "source": [
        "newDF=newDF[newDF['days_prior_covid_testing']<15]"
      ],
      "metadata": {
        "id": "49Sjx-fn18Ap"
      },
      "execution_count": 66,
      "outputs": []
    },
    {
      "cell_type": "code",
      "source": [
        "newDF=newDF[newDF['day_prior_covid19_symptoms']<15]\n",
        "newDF=newDF[newDF['day_prior_covid19_symptoms']>0]\n"
      ],
      "metadata": {
        "id": "w8iLkkKMJRJp"
      },
      "execution_count": 67,
      "outputs": []
    },
    {
      "cell_type": "code",
      "source": [
        "newDF.head()"
      ],
      "metadata": {
        "colab": {
          "base_uri": "https://localhost:8080/",
          "height": 225
        },
        "id": "JpQqIom7mWyG",
        "outputId": "0b3e12d5-6891-468c-d93f-a78cab70d26d"
      },
      "execution_count": 68,
      "outputs": [
        {
          "output_type": "execute_result",
          "data": {
            "text/plain": [
              "         icu_id     sex  bmi_value                    WHO_Region   race   age  \\\n",
              "508   VIR02-856  Female       34.5  Region of the Americas (AMR)  White  44.0   \n",
              "2071   VIR03-35  Female       23.2  Region of the Americas (AMR)  Black  67.0   \n",
              "2074   VIR03-39  Female       35.8  Region of the Americas (AMR)  Black  45.0   \n",
              "4578  VIR07-232    Male        NaN  Region of the Americas (AMR)  White  52.0   \n",
              "4579  VIR07-239  Female        NaN  Region of the Americas (AMR)  Black  44.0   \n",
              "\n",
              "      ethnic_group  day_prior_covid19_symptoms  days_prior_covid_testing  \\\n",
              "508   Non-Hispanic                        13.0                       7.0   \n",
              "2071  Non-Hispanic                         5.0                       8.0   \n",
              "2074  Non-Hispanic                         6.0                       6.0   \n",
              "4578  Non-Hispanic                        11.0                       2.0   \n",
              "4579  Non-Hispanic                         3.0                       2.0   \n",
              "\n",
              "      WHOscore3  WHOscore4  WHOscore5  WHOscore6  WHOscore7  WHOscore8  \n",
              "508           1          1          1          0          0          0  \n",
              "2071          1          1          1          0          0          0  \n",
              "2074          1          0          0          0          0          0  \n",
              "4578          1          1          1          0          0          0  \n",
              "4579          1          1          0          0          0          0  "
            ],
            "text/html": [
              "\n",
              "\n",
              "  <div id=\"df-97c3dcce-b54f-4b94-9bea-e8651e4cd9a8\">\n",
              "    <div class=\"colab-df-container\">\n",
              "      <div>\n",
              "<style scoped>\n",
              "    .dataframe tbody tr th:only-of-type {\n",
              "        vertical-align: middle;\n",
              "    }\n",
              "\n",
              "    .dataframe tbody tr th {\n",
              "        vertical-align: top;\n",
              "    }\n",
              "\n",
              "    .dataframe thead th {\n",
              "        text-align: right;\n",
              "    }\n",
              "</style>\n",
              "<table border=\"1\" class=\"dataframe\">\n",
              "  <thead>\n",
              "    <tr style=\"text-align: right;\">\n",
              "      <th></th>\n",
              "      <th>icu_id</th>\n",
              "      <th>sex</th>\n",
              "      <th>bmi_value</th>\n",
              "      <th>WHO_Region</th>\n",
              "      <th>race</th>\n",
              "      <th>age</th>\n",
              "      <th>ethnic_group</th>\n",
              "      <th>day_prior_covid19_symptoms</th>\n",
              "      <th>days_prior_covid_testing</th>\n",
              "      <th>WHOscore3</th>\n",
              "      <th>WHOscore4</th>\n",
              "      <th>WHOscore5</th>\n",
              "      <th>WHOscore6</th>\n",
              "      <th>WHOscore7</th>\n",
              "      <th>WHOscore8</th>\n",
              "    </tr>\n",
              "  </thead>\n",
              "  <tbody>\n",
              "    <tr>\n",
              "      <th>508</th>\n",
              "      <td>VIR02-856</td>\n",
              "      <td>Female</td>\n",
              "      <td>34.5</td>\n",
              "      <td>Region of the Americas (AMR)</td>\n",
              "      <td>White</td>\n",
              "      <td>44.0</td>\n",
              "      <td>Non-Hispanic</td>\n",
              "      <td>13.0</td>\n",
              "      <td>7.0</td>\n",
              "      <td>1</td>\n",
              "      <td>1</td>\n",
              "      <td>1</td>\n",
              "      <td>0</td>\n",
              "      <td>0</td>\n",
              "      <td>0</td>\n",
              "    </tr>\n",
              "    <tr>\n",
              "      <th>2071</th>\n",
              "      <td>VIR03-35</td>\n",
              "      <td>Female</td>\n",
              "      <td>23.2</td>\n",
              "      <td>Region of the Americas (AMR)</td>\n",
              "      <td>Black</td>\n",
              "      <td>67.0</td>\n",
              "      <td>Non-Hispanic</td>\n",
              "      <td>5.0</td>\n",
              "      <td>8.0</td>\n",
              "      <td>1</td>\n",
              "      <td>1</td>\n",
              "      <td>1</td>\n",
              "      <td>0</td>\n",
              "      <td>0</td>\n",
              "      <td>0</td>\n",
              "    </tr>\n",
              "    <tr>\n",
              "      <th>2074</th>\n",
              "      <td>VIR03-39</td>\n",
              "      <td>Female</td>\n",
              "      <td>35.8</td>\n",
              "      <td>Region of the Americas (AMR)</td>\n",
              "      <td>Black</td>\n",
              "      <td>45.0</td>\n",
              "      <td>Non-Hispanic</td>\n",
              "      <td>6.0</td>\n",
              "      <td>6.0</td>\n",
              "      <td>1</td>\n",
              "      <td>0</td>\n",
              "      <td>0</td>\n",
              "      <td>0</td>\n",
              "      <td>0</td>\n",
              "      <td>0</td>\n",
              "    </tr>\n",
              "    <tr>\n",
              "      <th>4578</th>\n",
              "      <td>VIR07-232</td>\n",
              "      <td>Male</td>\n",
              "      <td>NaN</td>\n",
              "      <td>Region of the Americas (AMR)</td>\n",
              "      <td>White</td>\n",
              "      <td>52.0</td>\n",
              "      <td>Non-Hispanic</td>\n",
              "      <td>11.0</td>\n",
              "      <td>2.0</td>\n",
              "      <td>1</td>\n",
              "      <td>1</td>\n",
              "      <td>1</td>\n",
              "      <td>0</td>\n",
              "      <td>0</td>\n",
              "      <td>0</td>\n",
              "    </tr>\n",
              "    <tr>\n",
              "      <th>4579</th>\n",
              "      <td>VIR07-239</td>\n",
              "      <td>Female</td>\n",
              "      <td>NaN</td>\n",
              "      <td>Region of the Americas (AMR)</td>\n",
              "      <td>Black</td>\n",
              "      <td>44.0</td>\n",
              "      <td>Non-Hispanic</td>\n",
              "      <td>3.0</td>\n",
              "      <td>2.0</td>\n",
              "      <td>1</td>\n",
              "      <td>1</td>\n",
              "      <td>0</td>\n",
              "      <td>0</td>\n",
              "      <td>0</td>\n",
              "      <td>0</td>\n",
              "    </tr>\n",
              "  </tbody>\n",
              "</table>\n",
              "</div>\n",
              "      <button class=\"colab-df-convert\" onclick=\"convertToInteractive('df-97c3dcce-b54f-4b94-9bea-e8651e4cd9a8')\"\n",
              "              title=\"Convert this dataframe to an interactive table.\"\n",
              "              style=\"display:none;\">\n",
              "\n",
              "  <svg xmlns=\"http://www.w3.org/2000/svg\" height=\"24px\"viewBox=\"0 0 24 24\"\n",
              "       width=\"24px\">\n",
              "    <path d=\"M0 0h24v24H0V0z\" fill=\"none\"/>\n",
              "    <path d=\"M18.56 5.44l.94 2.06.94-2.06 2.06-.94-2.06-.94-.94-2.06-.94 2.06-2.06.94zm-11 1L8.5 8.5l.94-2.06 2.06-.94-2.06-.94L8.5 2.5l-.94 2.06-2.06.94zm10 10l.94 2.06.94-2.06 2.06-.94-2.06-.94-.94-2.06-.94 2.06-2.06.94z\"/><path d=\"M17.41 7.96l-1.37-1.37c-.4-.4-.92-.59-1.43-.59-.52 0-1.04.2-1.43.59L10.3 9.45l-7.72 7.72c-.78.78-.78 2.05 0 2.83L4 21.41c.39.39.9.59 1.41.59.51 0 1.02-.2 1.41-.59l7.78-7.78 2.81-2.81c.8-.78.8-2.07 0-2.86zM5.41 20L4 18.59l7.72-7.72 1.47 1.35L5.41 20z\"/>\n",
              "  </svg>\n",
              "      </button>\n",
              "\n",
              "\n",
              "\n",
              "    <div id=\"df-909c321b-89d9-4115-b6ba-bb3fd3f64a8d\">\n",
              "      <button class=\"colab-df-quickchart\" onclick=\"quickchart('df-909c321b-89d9-4115-b6ba-bb3fd3f64a8d')\"\n",
              "              title=\"Suggest charts.\"\n",
              "              style=\"display:none;\">\n",
              "\n",
              "<svg xmlns=\"http://www.w3.org/2000/svg\" height=\"24px\"viewBox=\"0 0 24 24\"\n",
              "     width=\"24px\">\n",
              "    <g>\n",
              "        <path d=\"M19 3H5c-1.1 0-2 .9-2 2v14c0 1.1.9 2 2 2h14c1.1 0 2-.9 2-2V5c0-1.1-.9-2-2-2zM9 17H7v-7h2v7zm4 0h-2V7h2v10zm4 0h-2v-4h2v4z\"/>\n",
              "    </g>\n",
              "</svg>\n",
              "      </button>\n",
              "    </div>\n",
              "\n",
              "<style>\n",
              "  .colab-df-quickchart {\n",
              "    background-color: #E8F0FE;\n",
              "    border: none;\n",
              "    border-radius: 50%;\n",
              "    cursor: pointer;\n",
              "    display: none;\n",
              "    fill: #1967D2;\n",
              "    height: 32px;\n",
              "    padding: 0 0 0 0;\n",
              "    width: 32px;\n",
              "  }\n",
              "\n",
              "  .colab-df-quickchart:hover {\n",
              "    background-color: #E2EBFA;\n",
              "    box-shadow: 0px 1px 2px rgba(60, 64, 67, 0.3), 0px 1px 3px 1px rgba(60, 64, 67, 0.15);\n",
              "    fill: #174EA6;\n",
              "  }\n",
              "\n",
              "  [theme=dark] .colab-df-quickchart {\n",
              "    background-color: #3B4455;\n",
              "    fill: #D2E3FC;\n",
              "  }\n",
              "\n",
              "  [theme=dark] .colab-df-quickchart:hover {\n",
              "    background-color: #434B5C;\n",
              "    box-shadow: 0px 1px 3px 1px rgba(0, 0, 0, 0.15);\n",
              "    filter: drop-shadow(0px 1px 2px rgba(0, 0, 0, 0.3));\n",
              "    fill: #FFFFFF;\n",
              "  }\n",
              "</style>\n",
              "\n",
              "    <script>\n",
              "      async function quickchart(key) {\n",
              "        const containerElement = document.querySelector('#' + key);\n",
              "        const charts = await google.colab.kernel.invokeFunction(\n",
              "            'suggestCharts', [key], {});\n",
              "      }\n",
              "    </script>\n",
              "\n",
              "      <script>\n",
              "\n",
              "function displayQuickchartButton(domScope) {\n",
              "  let quickchartButtonEl =\n",
              "    domScope.querySelector('#df-909c321b-89d9-4115-b6ba-bb3fd3f64a8d button.colab-df-quickchart');\n",
              "  quickchartButtonEl.style.display =\n",
              "    google.colab.kernel.accessAllowed ? 'block' : 'none';\n",
              "}\n",
              "\n",
              "        displayQuickchartButton(document);\n",
              "      </script>\n",
              "      <style>\n",
              "    .colab-df-container {\n",
              "      display:flex;\n",
              "      flex-wrap:wrap;\n",
              "      gap: 12px;\n",
              "    }\n",
              "\n",
              "    .colab-df-convert {\n",
              "      background-color: #E8F0FE;\n",
              "      border: none;\n",
              "      border-radius: 50%;\n",
              "      cursor: pointer;\n",
              "      display: none;\n",
              "      fill: #1967D2;\n",
              "      height: 32px;\n",
              "      padding: 0 0 0 0;\n",
              "      width: 32px;\n",
              "    }\n",
              "\n",
              "    .colab-df-convert:hover {\n",
              "      background-color: #E2EBFA;\n",
              "      box-shadow: 0px 1px 2px rgba(60, 64, 67, 0.3), 0px 1px 3px 1px rgba(60, 64, 67, 0.15);\n",
              "      fill: #174EA6;\n",
              "    }\n",
              "\n",
              "    [theme=dark] .colab-df-convert {\n",
              "      background-color: #3B4455;\n",
              "      fill: #D2E3FC;\n",
              "    }\n",
              "\n",
              "    [theme=dark] .colab-df-convert:hover {\n",
              "      background-color: #434B5C;\n",
              "      box-shadow: 0px 1px 3px 1px rgba(0, 0, 0, 0.15);\n",
              "      filter: drop-shadow(0px 1px 2px rgba(0, 0, 0, 0.3));\n",
              "      fill: #FFFFFF;\n",
              "    }\n",
              "  </style>\n",
              "\n",
              "      <script>\n",
              "        const buttonEl =\n",
              "          document.querySelector('#df-97c3dcce-b54f-4b94-9bea-e8651e4cd9a8 button.colab-df-convert');\n",
              "        buttonEl.style.display =\n",
              "          google.colab.kernel.accessAllowed ? 'block' : 'none';\n",
              "\n",
              "        async function convertToInteractive(key) {\n",
              "          const element = document.querySelector('#df-97c3dcce-b54f-4b94-9bea-e8651e4cd9a8');\n",
              "          const dataTable =\n",
              "            await google.colab.kernel.invokeFunction('convertToInteractive',\n",
              "                                                     [key], {});\n",
              "          if (!dataTable) return;\n",
              "\n",
              "          const docLinkHtml = 'Like what you see? Visit the ' +\n",
              "            '<a target=\"_blank\" href=https://colab.research.google.com/notebooks/data_table.ipynb>data table notebook</a>'\n",
              "            + ' to learn more about interactive tables.';\n",
              "          element.innerHTML = '';\n",
              "          dataTable['output_type'] = 'display_data';\n",
              "          await google.colab.output.renderOutput(dataTable, element);\n",
              "          const docLink = document.createElement('div');\n",
              "          docLink.innerHTML = docLinkHtml;\n",
              "          element.appendChild(docLink);\n",
              "        }\n",
              "      </script>\n",
              "    </div>\n",
              "  </div>\n"
            ],
            "application/vnd.google.colaboratory.module+javascript": "\n      import \"https://ssl.gstatic.com/colaboratory/data_table/881c4a0d49046431/data_table.js\";\n\n      const table = window.createDataTable({\n        data: [[{\n            'v': 508,\n            'f': \"508\",\n        },\n\"VIR02-856\",\n\"Female\",\n{\n            'v': 34.5,\n            'f': \"34.5\",\n        },\n\"Region of the Americas (AMR)\",\n\"White\",\n{\n            'v': 44.0,\n            'f': \"44.0\",\n        },\n\"Non-Hispanic\",\n{\n            'v': 13.0,\n            'f': \"13.0\",\n        },\n{\n            'v': 7.0,\n            'f': \"7.0\",\n        },\n{\n            'v': 1,\n            'f': \"1\",\n        },\n{\n            'v': 1,\n            'f': \"1\",\n        },\n{\n            'v': 1,\n            'f': \"1\",\n        },\n{\n            'v': 0,\n            'f': \"0\",\n        },\n{\n            'v': 0,\n            'f': \"0\",\n        },\n{\n            'v': 0,\n            'f': \"0\",\n        }],\n [{\n            'v': 2071,\n            'f': \"2071\",\n        },\n\"VIR03-35\",\n\"Female\",\n{\n            'v': 23.2,\n            'f': \"23.2\",\n        },\n\"Region of the Americas (AMR)\",\n\"Black\",\n{\n            'v': 67.0,\n            'f': \"67.0\",\n        },\n\"Non-Hispanic\",\n{\n            'v': 5.0,\n            'f': \"5.0\",\n        },\n{\n            'v': 8.0,\n            'f': \"8.0\",\n        },\n{\n            'v': 1,\n            'f': \"1\",\n        },\n{\n            'v': 1,\n            'f': \"1\",\n        },\n{\n            'v': 1,\n            'f': \"1\",\n        },\n{\n            'v': 0,\n            'f': \"0\",\n        },\n{\n            'v': 0,\n            'f': \"0\",\n        },\n{\n            'v': 0,\n            'f': \"0\",\n        }],\n [{\n            'v': 2074,\n            'f': \"2074\",\n        },\n\"VIR03-39\",\n\"Female\",\n{\n            'v': 35.8,\n            'f': \"35.8\",\n        },\n\"Region of the Americas (AMR)\",\n\"Black\",\n{\n            'v': 45.0,\n            'f': \"45.0\",\n        },\n\"Non-Hispanic\",\n{\n            'v': 6.0,\n            'f': \"6.0\",\n        },\n{\n            'v': 6.0,\n            'f': \"6.0\",\n        },\n{\n            'v': 1,\n            'f': \"1\",\n        },\n{\n            'v': 0,\n            'f': \"0\",\n        },\n{\n            'v': 0,\n            'f': \"0\",\n        },\n{\n            'v': 0,\n            'f': \"0\",\n        },\n{\n            'v': 0,\n            'f': \"0\",\n        },\n{\n            'v': 0,\n            'f': \"0\",\n        }],\n [{\n            'v': 4578,\n            'f': \"4578\",\n        },\n\"VIR07-232\",\n\"Male\",\n{\n            'v': NaN,\n            'f': \"NaN\",\n        },\n\"Region of the Americas (AMR)\",\n\"White\",\n{\n            'v': 52.0,\n            'f': \"52.0\",\n        },\n\"Non-Hispanic\",\n{\n            'v': 11.0,\n            'f': \"11.0\",\n        },\n{\n            'v': 2.0,\n            'f': \"2.0\",\n        },\n{\n            'v': 1,\n            'f': \"1\",\n        },\n{\n            'v': 1,\n            'f': \"1\",\n        },\n{\n            'v': 1,\n            'f': \"1\",\n        },\n{\n            'v': 0,\n            'f': \"0\",\n        },\n{\n            'v': 0,\n            'f': \"0\",\n        },\n{\n            'v': 0,\n            'f': \"0\",\n        }],\n [{\n            'v': 4579,\n            'f': \"4579\",\n        },\n\"VIR07-239\",\n\"Female\",\n{\n            'v': NaN,\n            'f': \"NaN\",\n        },\n\"Region of the Americas (AMR)\",\n\"Black\",\n{\n            'v': 44.0,\n            'f': \"44.0\",\n        },\n\"Non-Hispanic\",\n{\n            'v': 3.0,\n            'f': \"3.0\",\n        },\n{\n            'v': 2.0,\n            'f': \"2.0\",\n        },\n{\n            'v': 1,\n            'f': \"1\",\n        },\n{\n            'v': 1,\n            'f': \"1\",\n        },\n{\n            'v': 0,\n            'f': \"0\",\n        },\n{\n            'v': 0,\n            'f': \"0\",\n        },\n{\n            'v': 0,\n            'f': \"0\",\n        },\n{\n            'v': 0,\n            'f': \"0\",\n        }]],\n        columns: [[\"number\", \"index\"], [\"string\", \"icu_id\"], [\"string\", \"sex\"], [\"number\", \"bmi_value\"], [\"string\", \"WHO_Region\"], [\"string\", \"race\"], [\"number\", \"age\"], [\"string\", \"ethnic_group\"], [\"number\", \"day_prior_covid19_symptoms\"], [\"number\", \"days_prior_covid_testing\"], [\"number\", \"WHOscore3\"], [\"number\", \"WHOscore4\"], [\"number\", \"WHOscore5\"], [\"number\", \"WHOscore6\"], [\"number\", \"WHOscore7\"], [\"number\", \"WHOscore8\"]],\n        columnOptions: [{\"width\": \"1px\", \"className\": \"index_column\"}],\n        rowsPerPage: 25,\n        helpUrl: \"https://colab.research.google.com/notebooks/data_table.ipynb\",\n        suppressOutputScrolling: true,\n        minimumWidth: undefined,\n      });\n      \n      function appendQuickchartButton(parentElement) {\n        let quickchartButtonContainerElement = document.createElement('div');\n        quickchartButtonContainerElement.innerHTML = `\n    <div id=\"df-608e0135-655b-45a8-ac82-180250fd9938\">\n      <button class=\"colab-df-quickchart\" onclick=\"quickchart('df-608e0135-655b-45a8-ac82-180250fd9938')\"\n              title=\"Suggest charts.\"\n              style=\"display:none;\">\n\n<svg xmlns=\"http://www.w3.org/2000/svg\" height=\"24px\"viewBox=\"0 0 24 24\"\n     width=\"24px\">\n    <g>\n        <path d=\"M19 3H5c-1.1 0-2 .9-2 2v14c0 1.1.9 2 2 2h14c1.1 0 2-.9 2-2V5c0-1.1-.9-2-2-2zM9 17H7v-7h2v7zm4 0h-2V7h2v10zm4 0h-2v-4h2v4z\"/>\n    </g>\n</svg>\n      </button>\n    </div>\n\n<style>\n  .colab-df-quickchart {\n    background-color: #E8F0FE;\n    border: none;\n    border-radius: 50%;\n    cursor: pointer;\n    display: none;\n    fill: #1967D2;\n    height: 32px;\n    padding: 0 0 0 0;\n    width: 32px;\n  }\n\n  .colab-df-quickchart:hover {\n    background-color: #E2EBFA;\n    box-shadow: 0px 1px 2px rgba(60, 64, 67, 0.3), 0px 1px 3px 1px rgba(60, 64, 67, 0.15);\n    fill: #174EA6;\n  }\n\n  [theme=dark] .colab-df-quickchart {\n    background-color: #3B4455;\n    fill: #D2E3FC;\n  }\n\n  [theme=dark] .colab-df-quickchart:hover {\n    background-color: #434B5C;\n    box-shadow: 0px 1px 3px 1px rgba(0, 0, 0, 0.15);\n    filter: drop-shadow(0px 1px 2px rgba(0, 0, 0, 0.3));\n    fill: #FFFFFF;\n  }\n</style>\n\n    <script>\n      async function quickchart(key) {\n        const containerElement = document.querySelector('#' + key);\n        const charts = await google.colab.kernel.invokeFunction(\n            'suggestCharts', [key], {});\n      }\n    </script>\n`;\n        parentElement.appendChild(quickchartButtonContainerElement);\n        \nfunction displayQuickchartButton(domScope) {\n  let quickchartButtonEl =\n    domScope.querySelector('#df-608e0135-655b-45a8-ac82-180250fd9938 button.colab-df-quickchart');\n  quickchartButtonEl.style.display =\n    google.colab.kernel.accessAllowed ? 'block' : 'none';\n}\n\n        displayQuickchartButton(parentElement);\n      }\n\n      appendQuickchartButton(table);\n    "
          },
          "metadata": {},
          "execution_count": 68
        }
      ]
    },
    {
      "cell_type": "code",
      "source": [
        "from google.colab import files\n",
        "\n",
        "csv_filename = 'WHOscoresID.csv'\n",
        "newDF.to_csv(csv_filename, index=False)\n",
        "files.download(csv_filename)\n"
      ],
      "metadata": {
        "id": "KtALRoJM3OPl",
        "colab": {
          "base_uri": "https://localhost:8080/",
          "height": 17
        },
        "outputId": "3f7c05fd-dbda-4876-f0e1-3fd13079e2fd"
      },
      "execution_count": 69,
      "outputs": [
        {
          "output_type": "display_data",
          "data": {
            "text/plain": [
              "<IPython.core.display.Javascript object>"
            ],
            "application/javascript": [
              "\n",
              "    async function download(id, filename, size) {\n",
              "      if (!google.colab.kernel.accessAllowed) {\n",
              "        return;\n",
              "      }\n",
              "      const div = document.createElement('div');\n",
              "      const label = document.createElement('label');\n",
              "      label.textContent = `Downloading \"${filename}\": `;\n",
              "      div.appendChild(label);\n",
              "      const progress = document.createElement('progress');\n",
              "      progress.max = size;\n",
              "      div.appendChild(progress);\n",
              "      document.body.appendChild(div);\n",
              "\n",
              "      const buffers = [];\n",
              "      let downloaded = 0;\n",
              "\n",
              "      const channel = await google.colab.kernel.comms.open(id);\n",
              "      // Send a message to notify the kernel that we're ready.\n",
              "      channel.send({})\n",
              "\n",
              "      for await (const message of channel.messages) {\n",
              "        // Send a message to notify the kernel that we're ready.\n",
              "        channel.send({})\n",
              "        if (message.buffers) {\n",
              "          for (const buffer of message.buffers) {\n",
              "            buffers.push(buffer);\n",
              "            downloaded += buffer.byteLength;\n",
              "            progress.value = downloaded;\n",
              "          }\n",
              "        }\n",
              "      }\n",
              "      const blob = new Blob(buffers, {type: 'application/binary'});\n",
              "      const a = document.createElement('a');\n",
              "      a.href = window.URL.createObjectURL(blob);\n",
              "      a.download = filename;\n",
              "      div.appendChild(a);\n",
              "      a.click();\n",
              "      div.remove();\n",
              "    }\n",
              "  "
            ]
          },
          "metadata": {}
        },
        {
          "output_type": "display_data",
          "data": {
            "text/plain": [
              "<IPython.core.display.Javascript object>"
            ],
            "application/javascript": [
              "download(\"download_fab1bb72-cd53-48d0-991d-be7403154d88\", \"WHOscoresID.csv\", 871966)"
            ]
          },
          "metadata": {}
        }
      ]
    },
    {
      "cell_type": "code",
      "source": [
        "newDF=VIRUS_demographics[cols]"
      ],
      "metadata": {
        "id": "x1jfnv_h1t80"
      },
      "execution_count": null,
      "outputs": []
    },
    {
      "cell_type": "code",
      "source": [
        "len(newDF)"
      ],
      "metadata": {
        "id": "o18djvUhJsCE"
      },
      "execution_count": null,
      "outputs": []
    },
    {
      "cell_type": "code",
      "source": [
        "len(newDF)"
      ],
      "metadata": {
        "id": "9_F4HSQJJXxT"
      },
      "execution_count": null,
      "outputs": []
    },
    {
      "cell_type": "code",
      "source": [
        "len(newDF)"
      ],
      "metadata": {
        "id": "IAMwlM0NJ9o9"
      },
      "execution_count": null,
      "outputs": []
    },
    {
      "cell_type": "code",
      "source": [
        "import pandas as pd\n",
        "import matplotlib.pyplot as plt\n",
        "\n",
        "# Create a box plot\n",
        "plt.figure(figsize=(8, 6))\n",
        "plt.boxplot(VIRUS_demographics['days_prior_covid_testing'].dropna())\n",
        "#also day_prior_covid19_symptoms\n",
        "plt.xlabel('Box Plot for day_prior_covid19_symptoms')\n",
        "plt.title('Days')\n",
        "plt.ylim(-10, 20)\n",
        "plt.show()"
      ],
      "metadata": {
        "id": "dlpn1lEAQjhU"
      },
      "execution_count": null,
      "outputs": []
    },
    {
      "cell_type": "code",
      "source": [
        "newDF['days_prior_covid_testing'].plot.kde()\n",
        "\n",
        "# Set plot labels and title\n",
        "plt.xlabel('days_prior_covid_testing')\n",
        "plt.ylabel('Density')\n",
        "plt.title('Kernel Density Estimation (KDE) Plot')\n",
        "plt.savefig('kde.png',dpi=300)"
      ],
      "metadata": {
        "id": "nY0jH6Mn4_SN"
      },
      "execution_count": null,
      "outputs": []
    },
    {
      "cell_type": "code",
      "source": [
        "from google.colab import files\n",
        "\n",
        "# Download the PNG file\n",
        "files.download('kde.png')"
      ],
      "metadata": {
        "id": "vFc_ois312a8"
      },
      "execution_count": null,
      "outputs": []
    },
    {
      "cell_type": "code",
      "source": [
        "df=tableone.tableone(\n",
        "    VIRUS_demographics,\n",
        "    columns = [\n",
        "        'sex',\n",
        "        'bmi_value',\n",
        "        'WHO_Region',\n",
        "        'race',\n",
        "        'age',\n",
        "        'ethnic_group',\n",
        "        ],\n",
        "    categorical = [\n",
        "        'sex',\n",
        "        'race',\n",
        "        'WHO_Region',\n",
        "        'ethnic_group',\n",
        "\n",
        "        ],\n",
        "    groupby=[\n",
        "        'day_prior_covid19_symptoms', #\n",
        "        ]\n",
        ")"
      ],
      "metadata": {
        "id": "yR1vJyr8mKai"
      },
      "execution_count": null,
      "outputs": []
    },
    {
      "cell_type": "code",
      "source": [
        "df"
      ],
      "metadata": {
        "id": "aAC6A_x5EljA"
      },
      "execution_count": null,
      "outputs": []
    },
    {
      "cell_type": "code",
      "source": [
        "import pandas as pd\n",
        "from tableone import TableOne\n",
        "import matplotlib.pyplot as plt\n",
        "\n",
        "# Assuming 'data' is your dataset with the variables you want to compare\n",
        "# Replace 'variable_name' with the actual column name containing the variable of interest\n",
        "variable_name = 'race'\n",
        "\n",
        "# Create the TableOne object\n",
        "tab = TableOne(VIRUS_demographics, columns=[variable_name, 'day_prior_covid19_symptoms'])\n",
        "\n",
        "# Generate the table\n",
        "table = tab.tableone\n",
        "\n",
        "# Access the summary statistics\n",
        "summary_stats = tab._columns_summary\n",
        "\n",
        "# Extract the min and max values\n",
        "min_val = summary_stats.loc[variable_name, 'min']\n",
        "max_val = summary_stats.loc[variable_name, 'max']\n",
        "\n",
        "# Create the boxplot using matplotlib\n",
        "plt.figure(figsize=(8, 6))  # Optional: Adjust the figure size\n",
        "plt.boxplot(data[variable_name], notch=True, vert=False)\n",
        "plt.xlabel('Values')  # Replace 'Values' with the appropriate label for your variable\n",
        "plt.title('Boxplot of ' + variable_name)  # Replace 'Boxplot of' with your desired title\n",
        "\n",
        "# Add min and max values to the plot\n",
        "plt.scatter([min_val, max_val], [1, 1], marker='o', color='red', label='Min/Max')\n",
        "plt.legend()\n",
        "\n",
        "plt.show()\n"
      ],
      "metadata": {
        "id": "LhYz4LdrMZfA"
      },
      "execution_count": null,
      "outputs": []
    },
    {
      "cell_type": "code",
      "source": [
        "df.head(\n",
        "\n",
        ")"
      ],
      "metadata": {
        "id": "K480LbXgN3qL"
      },
      "execution_count": null,
      "outputs": []
    },
    {
      "cell_type": "code",
      "source": [],
      "metadata": {
        "id": "IIZAv6K5MZmn"
      },
      "execution_count": null,
      "outputs": []
    },
    {
      "cell_type": "code",
      "source": [],
      "metadata": {
        "id": "JR1QBG-6Juef"
      },
      "execution_count": null,
      "outputs": []
    },
    {
      "cell_type": "code",
      "source": [
        "def downloadTable(df,name):\n",
        "  html_content = df.to_html()\n",
        "\n",
        "# Save the HTML content to a file\n",
        "  with open(name, \"w\") as f:\n",
        "    f.write(html_content)\n",
        "\n",
        "# Download the HTML file\n",
        "  files.download(name)"
      ],
      "metadata": {
        "id": "1R45o8smiTLD"
      },
      "execution_count": null,
      "outputs": []
    },
    {
      "cell_type": "code",
      "source": [
        "downloadTable(df,\"day_prior_covid19_symptoms.html\")"
      ],
      "metadata": {
        "id": "3-K0_FyFlbQy"
      },
      "execution_count": null,
      "outputs": []
    },
    {
      "cell_type": "code",
      "source": [
        "%%bigquery virus_demographics  --project sccm-datathon-2023-participant\n",
        "\n",
        "SELECT cd12.*\n",
        "  , cd7.hosp_status\n",
        "\n",
        "FROM `sccm-discovery.VIRUS.coredata1_2` cd12\n",
        "LEFT JOIN `sccm-discovery.VIRUS.coredata7` cd7 on (\n",
        "  cd7.icu_id = cd12.icu_id\n",
        "\n",
        ")\n"
      ],
      "metadata": {
        "id": "PM57cvbqid_Y"
      },
      "execution_count": null,
      "outputs": []
    },
    {
      "cell_type": "code",
      "source": [
        "virus_demographics['sex'] = virus_demographics['sex'].replace(1.0, 'Male')\n",
        "virus_demographics['sex'] = virus_demographics['sex'].replace(2.0, 'Female')\n",
        "virus_demographics['sex'] = virus_demographics['sex'].replace(3.0, 'Intersex')\n",
        "virus_demographics['sex'] = virus_demographics['sex'].replace(4.0, 'Transgender')\n",
        "virus_demographics['race'] = virus_demographics['race'].replace(1.0, 'Other')\n",
        "virus_demographics['race'] = virus_demographics['race'].replace(2.0, 'Other')\n",
        "virus_demographics['race'] = virus_demographics['race'].replace(3.0, 'Black')\n",
        "virus_demographics['race'] = virus_demographics['race'].replace(4.0, 'Other')\n",
        "virus_demographics['race'] = virus_demographics['race'].replace(5.0, 'White')\n",
        "virus_demographics['race'] = virus_demographics['race'].replace(6.0, 'Other')\n",
        "virus_demographics['race'] = virus_demographics['race'].replace(7.0, 'Other')\n",
        "virus_demographics['race'] = virus_demographics['race'].replace(8.0, 'Other')\n",
        "virus_demographics['race'] = virus_demographics['race'].replace(9.0, 'Other')\n",
        "virus_demographics['race'] = virus_demographics['race'].replace(10.0, 'Other')\n",
        "virus_demographics['race'] = virus_demographics['race'].replace(11.0, 'Other')\n",
        "virus_demographics['race'] = virus_demographics['race'].replace(12.0, 'Other')\n",
        "virus_demographics['race'] = virus_demographics['race'].replace(12.0, 'Other')\n",
        "\n",
        "virus_demographics['ethnic_group'] = virus_demographics['ethnic_group'].replace(1.0, 'Hispanic')\n",
        "virus_demographics['ethnic_group'] = virus_demographics['ethnic_group'].replace(0.0, 'Non-Hispanic')\n",
        "virus_demographics['ethnic_group'] = virus_demographics['ethnic_group'].replace(2.0, 'Non-Hispanic')\n",
        "virus_demographics['ethnic_group'] = virus_demographics['ethnic_group'].replace(3.0, 'Non-Hispanic')\n",
        "virus_demographics['hosp_status'] = virus_demographics['hosp_status'].replace(0.0, 'Alive')\n",
        "virus_demographics['hosp_status'] = virus_demographics['hosp_status'].replace(1.0, 'Deceased')\n",
        "\n"
      ],
      "metadata": {
        "id": "k2hN2eyc7UTe"
      },
      "execution_count": null,
      "outputs": []
    },
    {
      "cell_type": "code",
      "source": [
        "df=tableone.tableone(\n",
        "    virus_demographics,\n",
        "    columns = [\n",
        "        'age', 'sex',\n",
        "        'bmi_value',\n",
        "        'race',\n",
        "        'ethnic_group',\n",
        "        'hosp_status',\n",
        "        ],\n",
        "    categorical = [\n",
        "        'sex',\n",
        "        'race',\n",
        "        'ethnic_group',\n",
        "        'hosp_status',\n",
        "        ],\n",
        "    groupby =[\n",
        "\n",
        "    ]\n",
        "\n",
        ")\n",
        "df"
      ],
      "metadata": {
        "id": "BbJ8HmyZiv-M"
      },
      "execution_count": null,
      "outputs": []
    },
    {
      "cell_type": "code",
      "source": [
        "downloadTable(df,\"day_prior_covid19_symptoms.html\")"
      ],
      "metadata": {
        "id": "tImIivdMnhr4"
      },
      "execution_count": null,
      "outputs": []
    },
    {
      "cell_type": "code",
      "source": [],
      "metadata": {
        "id": "c199bEyhCvdu"
      },
      "execution_count": null,
      "outputs": []
    },
    {
      "cell_type": "code",
      "source": [],
      "metadata": {
        "id": "mUJn22IWD6G6"
      },
      "execution_count": null,
      "outputs": []
    },
    {
      "cell_type": "code",
      "source": [],
      "metadata": {
        "id": "g8ba0_EnD6PL"
      },
      "execution_count": null,
      "outputs": []
    },
    {
      "cell_type": "code",
      "source": [],
      "metadata": {
        "id": "2VVClhOQD6Vh"
      },
      "execution_count": null,
      "outputs": []
    }
  ],
  "metadata": {
    "colab": {
      "provenance": []
    },
    "kernelspec": {
      "display_name": "Python 3",
      "name": "python3"
    },
    "language_info": {
      "name": "python"
    },
    "widgets": {
      "application/vnd.jupyter.widget-state+json": {
        "450adccd60a84caa963881609173f668": {
          "model_module": "@jupyter-widgets/controls",
          "model_name": "HBoxModel",
          "model_module_version": "1.5.0",
          "state": {
            "_dom_classes": [],
            "_model_module": "@jupyter-widgets/controls",
            "_model_module_version": "1.5.0",
            "_model_name": "HBoxModel",
            "_view_count": null,
            "_view_module": "@jupyter-widgets/controls",
            "_view_module_version": "1.5.0",
            "_view_name": "HBoxView",
            "box_style": "",
            "children": [
              "IPY_MODEL_3bf0a06a9e12407f9becdd8a4f9d3d0e",
              "IPY_MODEL_0c6e2be0558040b3908780fea28582ce",
              "IPY_MODEL_0284ef3afa3e4e8ba5d0f78d39a6a6f0"
            ],
            "layout": "IPY_MODEL_2ed1b6a76bbb497d8e4e82023816d896"
          }
        },
        "3bf0a06a9e12407f9becdd8a4f9d3d0e": {
          "model_module": "@jupyter-widgets/controls",
          "model_name": "HTMLModel",
          "model_module_version": "1.5.0",
          "state": {
            "_dom_classes": [],
            "_model_module": "@jupyter-widgets/controls",
            "_model_module_version": "1.5.0",
            "_model_name": "HTMLModel",
            "_view_count": null,
            "_view_module": "@jupyter-widgets/controls",
            "_view_module_version": "1.5.0",
            "_view_name": "HTMLView",
            "description": "",
            "description_tooltip": null,
            "layout": "IPY_MODEL_b0958ec8df514960930099f301746f96",
            "placeholder": "​",
            "style": "IPY_MODEL_375ef42adf344cf7b2ee2ff275903d5b",
            "value": "Job ID 4a21c830-8f30-4132-be47-3d7f42d1961e successfully executed: 100%"
          }
        },
        "0c6e2be0558040b3908780fea28582ce": {
          "model_module": "@jupyter-widgets/controls",
          "model_name": "FloatProgressModel",
          "model_module_version": "1.5.0",
          "state": {
            "_dom_classes": [],
            "_model_module": "@jupyter-widgets/controls",
            "_model_module_version": "1.5.0",
            "_model_name": "FloatProgressModel",
            "_view_count": null,
            "_view_module": "@jupyter-widgets/controls",
            "_view_module_version": "1.5.0",
            "_view_name": "ProgressView",
            "bar_style": "success",
            "description": "",
            "description_tooltip": null,
            "layout": "IPY_MODEL_84b30ecb795b42da88b3e0feac873264",
            "max": 1,
            "min": 0,
            "orientation": "horizontal",
            "style": "IPY_MODEL_c8673725046542fa9df5c691aed9ef4e",
            "value": 1
          }
        },
        "0284ef3afa3e4e8ba5d0f78d39a6a6f0": {
          "model_module": "@jupyter-widgets/controls",
          "model_name": "HTMLModel",
          "model_module_version": "1.5.0",
          "state": {
            "_dom_classes": [],
            "_model_module": "@jupyter-widgets/controls",
            "_model_module_version": "1.5.0",
            "_model_name": "HTMLModel",
            "_view_count": null,
            "_view_module": "@jupyter-widgets/controls",
            "_view_module_version": "1.5.0",
            "_view_name": "HTMLView",
            "description": "",
            "description_tooltip": null,
            "layout": "IPY_MODEL_b9a642493b104625b40f96abd1b6b9d2",
            "placeholder": "​",
            "style": "IPY_MODEL_a4b2711b0a72456b9032772760813213",
            "value": ""
          }
        },
        "2ed1b6a76bbb497d8e4e82023816d896": {
          "model_module": "@jupyter-widgets/base",
          "model_name": "LayoutModel",
          "model_module_version": "1.2.0",
          "state": {
            "_model_module": "@jupyter-widgets/base",
            "_model_module_version": "1.2.0",
            "_model_name": "LayoutModel",
            "_view_count": null,
            "_view_module": "@jupyter-widgets/base",
            "_view_module_version": "1.2.0",
            "_view_name": "LayoutView",
            "align_content": null,
            "align_items": null,
            "align_self": null,
            "border": null,
            "bottom": null,
            "display": null,
            "flex": null,
            "flex_flow": null,
            "grid_area": null,
            "grid_auto_columns": null,
            "grid_auto_flow": null,
            "grid_auto_rows": null,
            "grid_column": null,
            "grid_gap": null,
            "grid_row": null,
            "grid_template_areas": null,
            "grid_template_columns": null,
            "grid_template_rows": null,
            "height": null,
            "justify_content": null,
            "justify_items": null,
            "left": null,
            "margin": null,
            "max_height": null,
            "max_width": null,
            "min_height": null,
            "min_width": null,
            "object_fit": null,
            "object_position": null,
            "order": null,
            "overflow": null,
            "overflow_x": null,
            "overflow_y": null,
            "padding": null,
            "right": null,
            "top": null,
            "visibility": null,
            "width": null
          }
        },
        "b0958ec8df514960930099f301746f96": {
          "model_module": "@jupyter-widgets/base",
          "model_name": "LayoutModel",
          "model_module_version": "1.2.0",
          "state": {
            "_model_module": "@jupyter-widgets/base",
            "_model_module_version": "1.2.0",
            "_model_name": "LayoutModel",
            "_view_count": null,
            "_view_module": "@jupyter-widgets/base",
            "_view_module_version": "1.2.0",
            "_view_name": "LayoutView",
            "align_content": null,
            "align_items": null,
            "align_self": null,
            "border": null,
            "bottom": null,
            "display": null,
            "flex": null,
            "flex_flow": null,
            "grid_area": null,
            "grid_auto_columns": null,
            "grid_auto_flow": null,
            "grid_auto_rows": null,
            "grid_column": null,
            "grid_gap": null,
            "grid_row": null,
            "grid_template_areas": null,
            "grid_template_columns": null,
            "grid_template_rows": null,
            "height": null,
            "justify_content": null,
            "justify_items": null,
            "left": null,
            "margin": null,
            "max_height": null,
            "max_width": null,
            "min_height": null,
            "min_width": null,
            "object_fit": null,
            "object_position": null,
            "order": null,
            "overflow": null,
            "overflow_x": null,
            "overflow_y": null,
            "padding": null,
            "right": null,
            "top": null,
            "visibility": null,
            "width": null
          }
        },
        "375ef42adf344cf7b2ee2ff275903d5b": {
          "model_module": "@jupyter-widgets/controls",
          "model_name": "DescriptionStyleModel",
          "model_module_version": "1.5.0",
          "state": {
            "_model_module": "@jupyter-widgets/controls",
            "_model_module_version": "1.5.0",
            "_model_name": "DescriptionStyleModel",
            "_view_count": null,
            "_view_module": "@jupyter-widgets/base",
            "_view_module_version": "1.2.0",
            "_view_name": "StyleView",
            "description_width": ""
          }
        },
        "84b30ecb795b42da88b3e0feac873264": {
          "model_module": "@jupyter-widgets/base",
          "model_name": "LayoutModel",
          "model_module_version": "1.2.0",
          "state": {
            "_model_module": "@jupyter-widgets/base",
            "_model_module_version": "1.2.0",
            "_model_name": "LayoutModel",
            "_view_count": null,
            "_view_module": "@jupyter-widgets/base",
            "_view_module_version": "1.2.0",
            "_view_name": "LayoutView",
            "align_content": null,
            "align_items": null,
            "align_self": null,
            "border": null,
            "bottom": null,
            "display": null,
            "flex": null,
            "flex_flow": null,
            "grid_area": null,
            "grid_auto_columns": null,
            "grid_auto_flow": null,
            "grid_auto_rows": null,
            "grid_column": null,
            "grid_gap": null,
            "grid_row": null,
            "grid_template_areas": null,
            "grid_template_columns": null,
            "grid_template_rows": null,
            "height": null,
            "justify_content": null,
            "justify_items": null,
            "left": null,
            "margin": null,
            "max_height": null,
            "max_width": null,
            "min_height": null,
            "min_width": null,
            "object_fit": null,
            "object_position": null,
            "order": null,
            "overflow": null,
            "overflow_x": null,
            "overflow_y": null,
            "padding": null,
            "right": null,
            "top": null,
            "visibility": null,
            "width": null
          }
        },
        "c8673725046542fa9df5c691aed9ef4e": {
          "model_module": "@jupyter-widgets/controls",
          "model_name": "ProgressStyleModel",
          "model_module_version": "1.5.0",
          "state": {
            "_model_module": "@jupyter-widgets/controls",
            "_model_module_version": "1.5.0",
            "_model_name": "ProgressStyleModel",
            "_view_count": null,
            "_view_module": "@jupyter-widgets/base",
            "_view_module_version": "1.2.0",
            "_view_name": "StyleView",
            "bar_color": null,
            "description_width": ""
          }
        },
        "b9a642493b104625b40f96abd1b6b9d2": {
          "model_module": "@jupyter-widgets/base",
          "model_name": "LayoutModel",
          "model_module_version": "1.2.0",
          "state": {
            "_model_module": "@jupyter-widgets/base",
            "_model_module_version": "1.2.0",
            "_model_name": "LayoutModel",
            "_view_count": null,
            "_view_module": "@jupyter-widgets/base",
            "_view_module_version": "1.2.0",
            "_view_name": "LayoutView",
            "align_content": null,
            "align_items": null,
            "align_self": null,
            "border": null,
            "bottom": null,
            "display": null,
            "flex": null,
            "flex_flow": null,
            "grid_area": null,
            "grid_auto_columns": null,
            "grid_auto_flow": null,
            "grid_auto_rows": null,
            "grid_column": null,
            "grid_gap": null,
            "grid_row": null,
            "grid_template_areas": null,
            "grid_template_columns": null,
            "grid_template_rows": null,
            "height": null,
            "justify_content": null,
            "justify_items": null,
            "left": null,
            "margin": null,
            "max_height": null,
            "max_width": null,
            "min_height": null,
            "min_width": null,
            "object_fit": null,
            "object_position": null,
            "order": null,
            "overflow": null,
            "overflow_x": null,
            "overflow_y": null,
            "padding": null,
            "right": null,
            "top": null,
            "visibility": null,
            "width": null
          }
        },
        "a4b2711b0a72456b9032772760813213": {
          "model_module": "@jupyter-widgets/controls",
          "model_name": "DescriptionStyleModel",
          "model_module_version": "1.5.0",
          "state": {
            "_model_module": "@jupyter-widgets/controls",
            "_model_module_version": "1.5.0",
            "_model_name": "DescriptionStyleModel",
            "_view_count": null,
            "_view_module": "@jupyter-widgets/base",
            "_view_module_version": "1.2.0",
            "_view_name": "StyleView",
            "description_width": ""
          }
        },
        "4afdbc14487a49d9b039587b51444e68": {
          "model_module": "@jupyter-widgets/controls",
          "model_name": "HBoxModel",
          "model_module_version": "1.5.0",
          "state": {
            "_dom_classes": [],
            "_model_module": "@jupyter-widgets/controls",
            "_model_module_version": "1.5.0",
            "_model_name": "HBoxModel",
            "_view_count": null,
            "_view_module": "@jupyter-widgets/controls",
            "_view_module_version": "1.5.0",
            "_view_name": "HBoxView",
            "box_style": "",
            "children": [
              "IPY_MODEL_8bee1f1003b04756878c13b998fd59bc",
              "IPY_MODEL_21f9e58cbc0f43aa8ce43b013563fc83",
              "IPY_MODEL_886e362cbe0e48d0b18a31adfb4c4ad3"
            ],
            "layout": "IPY_MODEL_1383c009cf6f41b589321f283f62f11a"
          }
        },
        "8bee1f1003b04756878c13b998fd59bc": {
          "model_module": "@jupyter-widgets/controls",
          "model_name": "HTMLModel",
          "model_module_version": "1.5.0",
          "state": {
            "_dom_classes": [],
            "_model_module": "@jupyter-widgets/controls",
            "_model_module_version": "1.5.0",
            "_model_name": "HTMLModel",
            "_view_count": null,
            "_view_module": "@jupyter-widgets/controls",
            "_view_module_version": "1.5.0",
            "_view_name": "HTMLView",
            "description": "",
            "description_tooltip": null,
            "layout": "IPY_MODEL_0acc9c6e31f348bb9ba8ee29d8cc25f4",
            "placeholder": "​",
            "style": "IPY_MODEL_1bf205c1a05f4a4980033752e28beff3",
            "value": "Downloading: 100%"
          }
        },
        "21f9e58cbc0f43aa8ce43b013563fc83": {
          "model_module": "@jupyter-widgets/controls",
          "model_name": "FloatProgressModel",
          "model_module_version": "1.5.0",
          "state": {
            "_dom_classes": [],
            "_model_module": "@jupyter-widgets/controls",
            "_model_module_version": "1.5.0",
            "_model_name": "FloatProgressModel",
            "_view_count": null,
            "_view_module": "@jupyter-widgets/controls",
            "_view_module_version": "1.5.0",
            "_view_name": "ProgressView",
            "bar_style": "success",
            "description": "",
            "description_tooltip": null,
            "layout": "IPY_MODEL_87ca6daebe964de98e6b2bc3e18d6f03",
            "max": 299724,
            "min": 0,
            "orientation": "horizontal",
            "style": "IPY_MODEL_5e143c316fb74814aa7a1b09725e1c6f",
            "value": 299724
          }
        },
        "886e362cbe0e48d0b18a31adfb4c4ad3": {
          "model_module": "@jupyter-widgets/controls",
          "model_name": "HTMLModel",
          "model_module_version": "1.5.0",
          "state": {
            "_dom_classes": [],
            "_model_module": "@jupyter-widgets/controls",
            "_model_module_version": "1.5.0",
            "_model_name": "HTMLModel",
            "_view_count": null,
            "_view_module": "@jupyter-widgets/controls",
            "_view_module_version": "1.5.0",
            "_view_name": "HTMLView",
            "description": "",
            "description_tooltip": null,
            "layout": "IPY_MODEL_22f92df1b1ff405a995c4cf01d59c420",
            "placeholder": "​",
            "style": "IPY_MODEL_48a2ad15f0b040719e4d3c113c3dc3d3",
            "value": ""
          }
        },
        "1383c009cf6f41b589321f283f62f11a": {
          "model_module": "@jupyter-widgets/base",
          "model_name": "LayoutModel",
          "model_module_version": "1.2.0",
          "state": {
            "_model_module": "@jupyter-widgets/base",
            "_model_module_version": "1.2.0",
            "_model_name": "LayoutModel",
            "_view_count": null,
            "_view_module": "@jupyter-widgets/base",
            "_view_module_version": "1.2.0",
            "_view_name": "LayoutView",
            "align_content": null,
            "align_items": null,
            "align_self": null,
            "border": null,
            "bottom": null,
            "display": null,
            "flex": null,
            "flex_flow": null,
            "grid_area": null,
            "grid_auto_columns": null,
            "grid_auto_flow": null,
            "grid_auto_rows": null,
            "grid_column": null,
            "grid_gap": null,
            "grid_row": null,
            "grid_template_areas": null,
            "grid_template_columns": null,
            "grid_template_rows": null,
            "height": null,
            "justify_content": null,
            "justify_items": null,
            "left": null,
            "margin": null,
            "max_height": null,
            "max_width": null,
            "min_height": null,
            "min_width": null,
            "object_fit": null,
            "object_position": null,
            "order": null,
            "overflow": null,
            "overflow_x": null,
            "overflow_y": null,
            "padding": null,
            "right": null,
            "top": null,
            "visibility": null,
            "width": null
          }
        },
        "0acc9c6e31f348bb9ba8ee29d8cc25f4": {
          "model_module": "@jupyter-widgets/base",
          "model_name": "LayoutModel",
          "model_module_version": "1.2.0",
          "state": {
            "_model_module": "@jupyter-widgets/base",
            "_model_module_version": "1.2.0",
            "_model_name": "LayoutModel",
            "_view_count": null,
            "_view_module": "@jupyter-widgets/base",
            "_view_module_version": "1.2.0",
            "_view_name": "LayoutView",
            "align_content": null,
            "align_items": null,
            "align_self": null,
            "border": null,
            "bottom": null,
            "display": null,
            "flex": null,
            "flex_flow": null,
            "grid_area": null,
            "grid_auto_columns": null,
            "grid_auto_flow": null,
            "grid_auto_rows": null,
            "grid_column": null,
            "grid_gap": null,
            "grid_row": null,
            "grid_template_areas": null,
            "grid_template_columns": null,
            "grid_template_rows": null,
            "height": null,
            "justify_content": null,
            "justify_items": null,
            "left": null,
            "margin": null,
            "max_height": null,
            "max_width": null,
            "min_height": null,
            "min_width": null,
            "object_fit": null,
            "object_position": null,
            "order": null,
            "overflow": null,
            "overflow_x": null,
            "overflow_y": null,
            "padding": null,
            "right": null,
            "top": null,
            "visibility": null,
            "width": null
          }
        },
        "1bf205c1a05f4a4980033752e28beff3": {
          "model_module": "@jupyter-widgets/controls",
          "model_name": "DescriptionStyleModel",
          "model_module_version": "1.5.0",
          "state": {
            "_model_module": "@jupyter-widgets/controls",
            "_model_module_version": "1.5.0",
            "_model_name": "DescriptionStyleModel",
            "_view_count": null,
            "_view_module": "@jupyter-widgets/base",
            "_view_module_version": "1.2.0",
            "_view_name": "StyleView",
            "description_width": ""
          }
        },
        "87ca6daebe964de98e6b2bc3e18d6f03": {
          "model_module": "@jupyter-widgets/base",
          "model_name": "LayoutModel",
          "model_module_version": "1.2.0",
          "state": {
            "_model_module": "@jupyter-widgets/base",
            "_model_module_version": "1.2.0",
            "_model_name": "LayoutModel",
            "_view_count": null,
            "_view_module": "@jupyter-widgets/base",
            "_view_module_version": "1.2.0",
            "_view_name": "LayoutView",
            "align_content": null,
            "align_items": null,
            "align_self": null,
            "border": null,
            "bottom": null,
            "display": null,
            "flex": null,
            "flex_flow": null,
            "grid_area": null,
            "grid_auto_columns": null,
            "grid_auto_flow": null,
            "grid_auto_rows": null,
            "grid_column": null,
            "grid_gap": null,
            "grid_row": null,
            "grid_template_areas": null,
            "grid_template_columns": null,
            "grid_template_rows": null,
            "height": null,
            "justify_content": null,
            "justify_items": null,
            "left": null,
            "margin": null,
            "max_height": null,
            "max_width": null,
            "min_height": null,
            "min_width": null,
            "object_fit": null,
            "object_position": null,
            "order": null,
            "overflow": null,
            "overflow_x": null,
            "overflow_y": null,
            "padding": null,
            "right": null,
            "top": null,
            "visibility": null,
            "width": null
          }
        },
        "5e143c316fb74814aa7a1b09725e1c6f": {
          "model_module": "@jupyter-widgets/controls",
          "model_name": "ProgressStyleModel",
          "model_module_version": "1.5.0",
          "state": {
            "_model_module": "@jupyter-widgets/controls",
            "_model_module_version": "1.5.0",
            "_model_name": "ProgressStyleModel",
            "_view_count": null,
            "_view_module": "@jupyter-widgets/base",
            "_view_module_version": "1.2.0",
            "_view_name": "StyleView",
            "bar_color": null,
            "description_width": ""
          }
        },
        "22f92df1b1ff405a995c4cf01d59c420": {
          "model_module": "@jupyter-widgets/base",
          "model_name": "LayoutModel",
          "model_module_version": "1.2.0",
          "state": {
            "_model_module": "@jupyter-widgets/base",
            "_model_module_version": "1.2.0",
            "_model_name": "LayoutModel",
            "_view_count": null,
            "_view_module": "@jupyter-widgets/base",
            "_view_module_version": "1.2.0",
            "_view_name": "LayoutView",
            "align_content": null,
            "align_items": null,
            "align_self": null,
            "border": null,
            "bottom": null,
            "display": null,
            "flex": null,
            "flex_flow": null,
            "grid_area": null,
            "grid_auto_columns": null,
            "grid_auto_flow": null,
            "grid_auto_rows": null,
            "grid_column": null,
            "grid_gap": null,
            "grid_row": null,
            "grid_template_areas": null,
            "grid_template_columns": null,
            "grid_template_rows": null,
            "height": null,
            "justify_content": null,
            "justify_items": null,
            "left": null,
            "margin": null,
            "max_height": null,
            "max_width": null,
            "min_height": null,
            "min_width": null,
            "object_fit": null,
            "object_position": null,
            "order": null,
            "overflow": null,
            "overflow_x": null,
            "overflow_y": null,
            "padding": null,
            "right": null,
            "top": null,
            "visibility": null,
            "width": null
          }
        },
        "48a2ad15f0b040719e4d3c113c3dc3d3": {
          "model_module": "@jupyter-widgets/controls",
          "model_name": "DescriptionStyleModel",
          "model_module_version": "1.5.0",
          "state": {
            "_model_module": "@jupyter-widgets/controls",
            "_model_module_version": "1.5.0",
            "_model_name": "DescriptionStyleModel",
            "_view_count": null,
            "_view_module": "@jupyter-widgets/base",
            "_view_module_version": "1.2.0",
            "_view_name": "StyleView",
            "description_width": ""
          }
        },
        "f10faf5117f84efcad5c0cf106880a6a": {
          "model_module": "@jupyter-widgets/controls",
          "model_name": "HBoxModel",
          "model_module_version": "1.5.0",
          "state": {
            "_dom_classes": [],
            "_model_module": "@jupyter-widgets/controls",
            "_model_module_version": "1.5.0",
            "_model_name": "HBoxModel",
            "_view_count": null,
            "_view_module": "@jupyter-widgets/controls",
            "_view_module_version": "1.5.0",
            "_view_name": "HBoxView",
            "box_style": "",
            "children": [
              "IPY_MODEL_17c21aca05354b25910434e6dd4c3ade",
              "IPY_MODEL_8ac479e7351d495cba20f609b57972ec",
              "IPY_MODEL_f55060a380b948268c1713ae4e6d1c0a"
            ],
            "layout": "IPY_MODEL_5af690640fdb4de3bec40ef070d58de0"
          }
        },
        "17c21aca05354b25910434e6dd4c3ade": {
          "model_module": "@jupyter-widgets/controls",
          "model_name": "HTMLModel",
          "model_module_version": "1.5.0",
          "state": {
            "_dom_classes": [],
            "_model_module": "@jupyter-widgets/controls",
            "_model_module_version": "1.5.0",
            "_model_name": "HTMLModel",
            "_view_count": null,
            "_view_module": "@jupyter-widgets/controls",
            "_view_module_version": "1.5.0",
            "_view_name": "HTMLView",
            "description": "",
            "description_tooltip": null,
            "layout": "IPY_MODEL_b04c20ffcaa446308c0ca3bee548447f",
            "placeholder": "​",
            "style": "IPY_MODEL_d140262d503b4dfd969ca137ea2db32d",
            "value": "Job ID 8d9a7933-899e-499b-b034-02f80e56ba33 successfully executed: 100%"
          }
        },
        "8ac479e7351d495cba20f609b57972ec": {
          "model_module": "@jupyter-widgets/controls",
          "model_name": "FloatProgressModel",
          "model_module_version": "1.5.0",
          "state": {
            "_dom_classes": [],
            "_model_module": "@jupyter-widgets/controls",
            "_model_module_version": "1.5.0",
            "_model_name": "FloatProgressModel",
            "_view_count": null,
            "_view_module": "@jupyter-widgets/controls",
            "_view_module_version": "1.5.0",
            "_view_name": "ProgressView",
            "bar_style": "success",
            "description": "",
            "description_tooltip": null,
            "layout": "IPY_MODEL_eb40dc9ab49c4179bbaae374d71c3ca4",
            "max": 1,
            "min": 0,
            "orientation": "horizontal",
            "style": "IPY_MODEL_6d1e94ca51ae424e98b94e459a4993e2",
            "value": 1
          }
        },
        "f55060a380b948268c1713ae4e6d1c0a": {
          "model_module": "@jupyter-widgets/controls",
          "model_name": "HTMLModel",
          "model_module_version": "1.5.0",
          "state": {
            "_dom_classes": [],
            "_model_module": "@jupyter-widgets/controls",
            "_model_module_version": "1.5.0",
            "_model_name": "HTMLModel",
            "_view_count": null,
            "_view_module": "@jupyter-widgets/controls",
            "_view_module_version": "1.5.0",
            "_view_name": "HTMLView",
            "description": "",
            "description_tooltip": null,
            "layout": "IPY_MODEL_31ce43781aa2447baf75e0eea39a79d0",
            "placeholder": "​",
            "style": "IPY_MODEL_d75b9a53a7e8417fac8d333dd49dc0cc",
            "value": ""
          }
        },
        "5af690640fdb4de3bec40ef070d58de0": {
          "model_module": "@jupyter-widgets/base",
          "model_name": "LayoutModel",
          "model_module_version": "1.2.0",
          "state": {
            "_model_module": "@jupyter-widgets/base",
            "_model_module_version": "1.2.0",
            "_model_name": "LayoutModel",
            "_view_count": null,
            "_view_module": "@jupyter-widgets/base",
            "_view_module_version": "1.2.0",
            "_view_name": "LayoutView",
            "align_content": null,
            "align_items": null,
            "align_self": null,
            "border": null,
            "bottom": null,
            "display": null,
            "flex": null,
            "flex_flow": null,
            "grid_area": null,
            "grid_auto_columns": null,
            "grid_auto_flow": null,
            "grid_auto_rows": null,
            "grid_column": null,
            "grid_gap": null,
            "grid_row": null,
            "grid_template_areas": null,
            "grid_template_columns": null,
            "grid_template_rows": null,
            "height": null,
            "justify_content": null,
            "justify_items": null,
            "left": null,
            "margin": null,
            "max_height": null,
            "max_width": null,
            "min_height": null,
            "min_width": null,
            "object_fit": null,
            "object_position": null,
            "order": null,
            "overflow": null,
            "overflow_x": null,
            "overflow_y": null,
            "padding": null,
            "right": null,
            "top": null,
            "visibility": null,
            "width": null
          }
        },
        "b04c20ffcaa446308c0ca3bee548447f": {
          "model_module": "@jupyter-widgets/base",
          "model_name": "LayoutModel",
          "model_module_version": "1.2.0",
          "state": {
            "_model_module": "@jupyter-widgets/base",
            "_model_module_version": "1.2.0",
            "_model_name": "LayoutModel",
            "_view_count": null,
            "_view_module": "@jupyter-widgets/base",
            "_view_module_version": "1.2.0",
            "_view_name": "LayoutView",
            "align_content": null,
            "align_items": null,
            "align_self": null,
            "border": null,
            "bottom": null,
            "display": null,
            "flex": null,
            "flex_flow": null,
            "grid_area": null,
            "grid_auto_columns": null,
            "grid_auto_flow": null,
            "grid_auto_rows": null,
            "grid_column": null,
            "grid_gap": null,
            "grid_row": null,
            "grid_template_areas": null,
            "grid_template_columns": null,
            "grid_template_rows": null,
            "height": null,
            "justify_content": null,
            "justify_items": null,
            "left": null,
            "margin": null,
            "max_height": null,
            "max_width": null,
            "min_height": null,
            "min_width": null,
            "object_fit": null,
            "object_position": null,
            "order": null,
            "overflow": null,
            "overflow_x": null,
            "overflow_y": null,
            "padding": null,
            "right": null,
            "top": null,
            "visibility": null,
            "width": null
          }
        },
        "d140262d503b4dfd969ca137ea2db32d": {
          "model_module": "@jupyter-widgets/controls",
          "model_name": "DescriptionStyleModel",
          "model_module_version": "1.5.0",
          "state": {
            "_model_module": "@jupyter-widgets/controls",
            "_model_module_version": "1.5.0",
            "_model_name": "DescriptionStyleModel",
            "_view_count": null,
            "_view_module": "@jupyter-widgets/base",
            "_view_module_version": "1.2.0",
            "_view_name": "StyleView",
            "description_width": ""
          }
        },
        "eb40dc9ab49c4179bbaae374d71c3ca4": {
          "model_module": "@jupyter-widgets/base",
          "model_name": "LayoutModel",
          "model_module_version": "1.2.0",
          "state": {
            "_model_module": "@jupyter-widgets/base",
            "_model_module_version": "1.2.0",
            "_model_name": "LayoutModel",
            "_view_count": null,
            "_view_module": "@jupyter-widgets/base",
            "_view_module_version": "1.2.0",
            "_view_name": "LayoutView",
            "align_content": null,
            "align_items": null,
            "align_self": null,
            "border": null,
            "bottom": null,
            "display": null,
            "flex": null,
            "flex_flow": null,
            "grid_area": null,
            "grid_auto_columns": null,
            "grid_auto_flow": null,
            "grid_auto_rows": null,
            "grid_column": null,
            "grid_gap": null,
            "grid_row": null,
            "grid_template_areas": null,
            "grid_template_columns": null,
            "grid_template_rows": null,
            "height": null,
            "justify_content": null,
            "justify_items": null,
            "left": null,
            "margin": null,
            "max_height": null,
            "max_width": null,
            "min_height": null,
            "min_width": null,
            "object_fit": null,
            "object_position": null,
            "order": null,
            "overflow": null,
            "overflow_x": null,
            "overflow_y": null,
            "padding": null,
            "right": null,
            "top": null,
            "visibility": null,
            "width": null
          }
        },
        "6d1e94ca51ae424e98b94e459a4993e2": {
          "model_module": "@jupyter-widgets/controls",
          "model_name": "ProgressStyleModel",
          "model_module_version": "1.5.0",
          "state": {
            "_model_module": "@jupyter-widgets/controls",
            "_model_module_version": "1.5.0",
            "_model_name": "ProgressStyleModel",
            "_view_count": null,
            "_view_module": "@jupyter-widgets/base",
            "_view_module_version": "1.2.0",
            "_view_name": "StyleView",
            "bar_color": null,
            "description_width": ""
          }
        },
        "31ce43781aa2447baf75e0eea39a79d0": {
          "model_module": "@jupyter-widgets/base",
          "model_name": "LayoutModel",
          "model_module_version": "1.2.0",
          "state": {
            "_model_module": "@jupyter-widgets/base",
            "_model_module_version": "1.2.0",
            "_model_name": "LayoutModel",
            "_view_count": null,
            "_view_module": "@jupyter-widgets/base",
            "_view_module_version": "1.2.0",
            "_view_name": "LayoutView",
            "align_content": null,
            "align_items": null,
            "align_self": null,
            "border": null,
            "bottom": null,
            "display": null,
            "flex": null,
            "flex_flow": null,
            "grid_area": null,
            "grid_auto_columns": null,
            "grid_auto_flow": null,
            "grid_auto_rows": null,
            "grid_column": null,
            "grid_gap": null,
            "grid_row": null,
            "grid_template_areas": null,
            "grid_template_columns": null,
            "grid_template_rows": null,
            "height": null,
            "justify_content": null,
            "justify_items": null,
            "left": null,
            "margin": null,
            "max_height": null,
            "max_width": null,
            "min_height": null,
            "min_width": null,
            "object_fit": null,
            "object_position": null,
            "order": null,
            "overflow": null,
            "overflow_x": null,
            "overflow_y": null,
            "padding": null,
            "right": null,
            "top": null,
            "visibility": null,
            "width": null
          }
        },
        "d75b9a53a7e8417fac8d333dd49dc0cc": {
          "model_module": "@jupyter-widgets/controls",
          "model_name": "DescriptionStyleModel",
          "model_module_version": "1.5.0",
          "state": {
            "_model_module": "@jupyter-widgets/controls",
            "_model_module_version": "1.5.0",
            "_model_name": "DescriptionStyleModel",
            "_view_count": null,
            "_view_module": "@jupyter-widgets/base",
            "_view_module_version": "1.2.0",
            "_view_name": "StyleView",
            "description_width": ""
          }
        },
        "4b59ffc4f84d486681754c9ff0fb2445": {
          "model_module": "@jupyter-widgets/controls",
          "model_name": "HBoxModel",
          "model_module_version": "1.5.0",
          "state": {
            "_dom_classes": [],
            "_model_module": "@jupyter-widgets/controls",
            "_model_module_version": "1.5.0",
            "_model_name": "HBoxModel",
            "_view_count": null,
            "_view_module": "@jupyter-widgets/controls",
            "_view_module_version": "1.5.0",
            "_view_name": "HBoxView",
            "box_style": "",
            "children": [
              "IPY_MODEL_a587135c768e4d8981e3e73e371d9e7a",
              "IPY_MODEL_ad45670c781844e5ab3afcd3ef28dd61",
              "IPY_MODEL_546d84d5083744f5ac7cf642f2dc5c04"
            ],
            "layout": "IPY_MODEL_b332ed1f41e5441b9f02a82f18ec7f36"
          }
        },
        "a587135c768e4d8981e3e73e371d9e7a": {
          "model_module": "@jupyter-widgets/controls",
          "model_name": "HTMLModel",
          "model_module_version": "1.5.0",
          "state": {
            "_dom_classes": [],
            "_model_module": "@jupyter-widgets/controls",
            "_model_module_version": "1.5.0",
            "_model_name": "HTMLModel",
            "_view_count": null,
            "_view_module": "@jupyter-widgets/controls",
            "_view_module_version": "1.5.0",
            "_view_name": "HTMLView",
            "description": "",
            "description_tooltip": null,
            "layout": "IPY_MODEL_f7eb1d9f519f4da687e534054cbd50e4",
            "placeholder": "​",
            "style": "IPY_MODEL_6a7253b172434762988face7595808cf",
            "value": "Downloading: 100%"
          }
        },
        "ad45670c781844e5ab3afcd3ef28dd61": {
          "model_module": "@jupyter-widgets/controls",
          "model_name": "FloatProgressModel",
          "model_module_version": "1.5.0",
          "state": {
            "_dom_classes": [],
            "_model_module": "@jupyter-widgets/controls",
            "_model_module_version": "1.5.0",
            "_model_name": "FloatProgressModel",
            "_view_count": null,
            "_view_module": "@jupyter-widgets/controls",
            "_view_module_version": "1.5.0",
            "_view_name": "ProgressView",
            "bar_style": "success",
            "description": "",
            "description_tooltip": null,
            "layout": "IPY_MODEL_322e7d0925c34e7ca909d5eabdf7901d",
            "max": 92244,
            "min": 0,
            "orientation": "horizontal",
            "style": "IPY_MODEL_9170640e2f9b49548b58eb3bc6c1611f",
            "value": 92244
          }
        },
        "546d84d5083744f5ac7cf642f2dc5c04": {
          "model_module": "@jupyter-widgets/controls",
          "model_name": "HTMLModel",
          "model_module_version": "1.5.0",
          "state": {
            "_dom_classes": [],
            "_model_module": "@jupyter-widgets/controls",
            "_model_module_version": "1.5.0",
            "_model_name": "HTMLModel",
            "_view_count": null,
            "_view_module": "@jupyter-widgets/controls",
            "_view_module_version": "1.5.0",
            "_view_name": "HTMLView",
            "description": "",
            "description_tooltip": null,
            "layout": "IPY_MODEL_8d545a9e8ee743f29efbe0fb002111f8",
            "placeholder": "​",
            "style": "IPY_MODEL_f218222198f44e1380c7106eb0e1f3a6",
            "value": ""
          }
        },
        "b332ed1f41e5441b9f02a82f18ec7f36": {
          "model_module": "@jupyter-widgets/base",
          "model_name": "LayoutModel",
          "model_module_version": "1.2.0",
          "state": {
            "_model_module": "@jupyter-widgets/base",
            "_model_module_version": "1.2.0",
            "_model_name": "LayoutModel",
            "_view_count": null,
            "_view_module": "@jupyter-widgets/base",
            "_view_module_version": "1.2.0",
            "_view_name": "LayoutView",
            "align_content": null,
            "align_items": null,
            "align_self": null,
            "border": null,
            "bottom": null,
            "display": null,
            "flex": null,
            "flex_flow": null,
            "grid_area": null,
            "grid_auto_columns": null,
            "grid_auto_flow": null,
            "grid_auto_rows": null,
            "grid_column": null,
            "grid_gap": null,
            "grid_row": null,
            "grid_template_areas": null,
            "grid_template_columns": null,
            "grid_template_rows": null,
            "height": null,
            "justify_content": null,
            "justify_items": null,
            "left": null,
            "margin": null,
            "max_height": null,
            "max_width": null,
            "min_height": null,
            "min_width": null,
            "object_fit": null,
            "object_position": null,
            "order": null,
            "overflow": null,
            "overflow_x": null,
            "overflow_y": null,
            "padding": null,
            "right": null,
            "top": null,
            "visibility": null,
            "width": null
          }
        },
        "f7eb1d9f519f4da687e534054cbd50e4": {
          "model_module": "@jupyter-widgets/base",
          "model_name": "LayoutModel",
          "model_module_version": "1.2.0",
          "state": {
            "_model_module": "@jupyter-widgets/base",
            "_model_module_version": "1.2.0",
            "_model_name": "LayoutModel",
            "_view_count": null,
            "_view_module": "@jupyter-widgets/base",
            "_view_module_version": "1.2.0",
            "_view_name": "LayoutView",
            "align_content": null,
            "align_items": null,
            "align_self": null,
            "border": null,
            "bottom": null,
            "display": null,
            "flex": null,
            "flex_flow": null,
            "grid_area": null,
            "grid_auto_columns": null,
            "grid_auto_flow": null,
            "grid_auto_rows": null,
            "grid_column": null,
            "grid_gap": null,
            "grid_row": null,
            "grid_template_areas": null,
            "grid_template_columns": null,
            "grid_template_rows": null,
            "height": null,
            "justify_content": null,
            "justify_items": null,
            "left": null,
            "margin": null,
            "max_height": null,
            "max_width": null,
            "min_height": null,
            "min_width": null,
            "object_fit": null,
            "object_position": null,
            "order": null,
            "overflow": null,
            "overflow_x": null,
            "overflow_y": null,
            "padding": null,
            "right": null,
            "top": null,
            "visibility": null,
            "width": null
          }
        },
        "6a7253b172434762988face7595808cf": {
          "model_module": "@jupyter-widgets/controls",
          "model_name": "DescriptionStyleModel",
          "model_module_version": "1.5.0",
          "state": {
            "_model_module": "@jupyter-widgets/controls",
            "_model_module_version": "1.5.0",
            "_model_name": "DescriptionStyleModel",
            "_view_count": null,
            "_view_module": "@jupyter-widgets/base",
            "_view_module_version": "1.2.0",
            "_view_name": "StyleView",
            "description_width": ""
          }
        },
        "322e7d0925c34e7ca909d5eabdf7901d": {
          "model_module": "@jupyter-widgets/base",
          "model_name": "LayoutModel",
          "model_module_version": "1.2.0",
          "state": {
            "_model_module": "@jupyter-widgets/base",
            "_model_module_version": "1.2.0",
            "_model_name": "LayoutModel",
            "_view_count": null,
            "_view_module": "@jupyter-widgets/base",
            "_view_module_version": "1.2.0",
            "_view_name": "LayoutView",
            "align_content": null,
            "align_items": null,
            "align_self": null,
            "border": null,
            "bottom": null,
            "display": null,
            "flex": null,
            "flex_flow": null,
            "grid_area": null,
            "grid_auto_columns": null,
            "grid_auto_flow": null,
            "grid_auto_rows": null,
            "grid_column": null,
            "grid_gap": null,
            "grid_row": null,
            "grid_template_areas": null,
            "grid_template_columns": null,
            "grid_template_rows": null,
            "height": null,
            "justify_content": null,
            "justify_items": null,
            "left": null,
            "margin": null,
            "max_height": null,
            "max_width": null,
            "min_height": null,
            "min_width": null,
            "object_fit": null,
            "object_position": null,
            "order": null,
            "overflow": null,
            "overflow_x": null,
            "overflow_y": null,
            "padding": null,
            "right": null,
            "top": null,
            "visibility": null,
            "width": null
          }
        },
        "9170640e2f9b49548b58eb3bc6c1611f": {
          "model_module": "@jupyter-widgets/controls",
          "model_name": "ProgressStyleModel",
          "model_module_version": "1.5.0",
          "state": {
            "_model_module": "@jupyter-widgets/controls",
            "_model_module_version": "1.5.0",
            "_model_name": "ProgressStyleModel",
            "_view_count": null,
            "_view_module": "@jupyter-widgets/base",
            "_view_module_version": "1.2.0",
            "_view_name": "StyleView",
            "bar_color": null,
            "description_width": ""
          }
        },
        "8d545a9e8ee743f29efbe0fb002111f8": {
          "model_module": "@jupyter-widgets/base",
          "model_name": "LayoutModel",
          "model_module_version": "1.2.0",
          "state": {
            "_model_module": "@jupyter-widgets/base",
            "_model_module_version": "1.2.0",
            "_model_name": "LayoutModel",
            "_view_count": null,
            "_view_module": "@jupyter-widgets/base",
            "_view_module_version": "1.2.0",
            "_view_name": "LayoutView",
            "align_content": null,
            "align_items": null,
            "align_self": null,
            "border": null,
            "bottom": null,
            "display": null,
            "flex": null,
            "flex_flow": null,
            "grid_area": null,
            "grid_auto_columns": null,
            "grid_auto_flow": null,
            "grid_auto_rows": null,
            "grid_column": null,
            "grid_gap": null,
            "grid_row": null,
            "grid_template_areas": null,
            "grid_template_columns": null,
            "grid_template_rows": null,
            "height": null,
            "justify_content": null,
            "justify_items": null,
            "left": null,
            "margin": null,
            "max_height": null,
            "max_width": null,
            "min_height": null,
            "min_width": null,
            "object_fit": null,
            "object_position": null,
            "order": null,
            "overflow": null,
            "overflow_x": null,
            "overflow_y": null,
            "padding": null,
            "right": null,
            "top": null,
            "visibility": null,
            "width": null
          }
        },
        "f218222198f44e1380c7106eb0e1f3a6": {
          "model_module": "@jupyter-widgets/controls",
          "model_name": "DescriptionStyleModel",
          "model_module_version": "1.5.0",
          "state": {
            "_model_module": "@jupyter-widgets/controls",
            "_model_module_version": "1.5.0",
            "_model_name": "DescriptionStyleModel",
            "_view_count": null,
            "_view_module": "@jupyter-widgets/base",
            "_view_module_version": "1.2.0",
            "_view_name": "StyleView",
            "description_width": ""
          }
        },
        "b313da3995574035824b4ab11a89f259": {
          "model_module": "@jupyter-widgets/controls",
          "model_name": "HBoxModel",
          "model_module_version": "1.5.0",
          "state": {
            "_dom_classes": [],
            "_model_module": "@jupyter-widgets/controls",
            "_model_module_version": "1.5.0",
            "_model_name": "HBoxModel",
            "_view_count": null,
            "_view_module": "@jupyter-widgets/controls",
            "_view_module_version": "1.5.0",
            "_view_name": "HBoxView",
            "box_style": "",
            "children": [
              "IPY_MODEL_3ce98b4fa3224bcb8f3f933185dd98c8",
              "IPY_MODEL_89fe394e8b6240ce83d681a045b63e7d",
              "IPY_MODEL_25334a9342d648408d3db27a20115261"
            ],
            "layout": "IPY_MODEL_7f896c84129640c4a7118e89094b3ca8"
          }
        },
        "3ce98b4fa3224bcb8f3f933185dd98c8": {
          "model_module": "@jupyter-widgets/controls",
          "model_name": "HTMLModel",
          "model_module_version": "1.5.0",
          "state": {
            "_dom_classes": [],
            "_model_module": "@jupyter-widgets/controls",
            "_model_module_version": "1.5.0",
            "_model_name": "HTMLModel",
            "_view_count": null,
            "_view_module": "@jupyter-widgets/controls",
            "_view_module_version": "1.5.0",
            "_view_name": "HTMLView",
            "description": "",
            "description_tooltip": null,
            "layout": "IPY_MODEL_2d249f67797d4f7bb90d95d02ed5e23f",
            "placeholder": "​",
            "style": "IPY_MODEL_3e1188f24d9648d0b61e297c6c128193",
            "value": "Job ID ddc1f089-b2dd-4974-abe2-4b2de598bfb8 successfully executed: 100%"
          }
        },
        "89fe394e8b6240ce83d681a045b63e7d": {
          "model_module": "@jupyter-widgets/controls",
          "model_name": "FloatProgressModel",
          "model_module_version": "1.5.0",
          "state": {
            "_dom_classes": [],
            "_model_module": "@jupyter-widgets/controls",
            "_model_module_version": "1.5.0",
            "_model_name": "FloatProgressModel",
            "_view_count": null,
            "_view_module": "@jupyter-widgets/controls",
            "_view_module_version": "1.5.0",
            "_view_name": "ProgressView",
            "bar_style": "success",
            "description": "",
            "description_tooltip": null,
            "layout": "IPY_MODEL_5e8aa19481b444e99420f9e455b33d11",
            "max": 1,
            "min": 0,
            "orientation": "horizontal",
            "style": "IPY_MODEL_989ae77bb0e9453b960c50a72e755632",
            "value": 1
          }
        },
        "25334a9342d648408d3db27a20115261": {
          "model_module": "@jupyter-widgets/controls",
          "model_name": "HTMLModel",
          "model_module_version": "1.5.0",
          "state": {
            "_dom_classes": [],
            "_model_module": "@jupyter-widgets/controls",
            "_model_module_version": "1.5.0",
            "_model_name": "HTMLModel",
            "_view_count": null,
            "_view_module": "@jupyter-widgets/controls",
            "_view_module_version": "1.5.0",
            "_view_name": "HTMLView",
            "description": "",
            "description_tooltip": null,
            "layout": "IPY_MODEL_a476c46f58d04332aa34b0e69de0cc09",
            "placeholder": "​",
            "style": "IPY_MODEL_c5b4cca253ac4f8c9eff44de6896d1d1",
            "value": ""
          }
        },
        "7f896c84129640c4a7118e89094b3ca8": {
          "model_module": "@jupyter-widgets/base",
          "model_name": "LayoutModel",
          "model_module_version": "1.2.0",
          "state": {
            "_model_module": "@jupyter-widgets/base",
            "_model_module_version": "1.2.0",
            "_model_name": "LayoutModel",
            "_view_count": null,
            "_view_module": "@jupyter-widgets/base",
            "_view_module_version": "1.2.0",
            "_view_name": "LayoutView",
            "align_content": null,
            "align_items": null,
            "align_self": null,
            "border": null,
            "bottom": null,
            "display": null,
            "flex": null,
            "flex_flow": null,
            "grid_area": null,
            "grid_auto_columns": null,
            "grid_auto_flow": null,
            "grid_auto_rows": null,
            "grid_column": null,
            "grid_gap": null,
            "grid_row": null,
            "grid_template_areas": null,
            "grid_template_columns": null,
            "grid_template_rows": null,
            "height": null,
            "justify_content": null,
            "justify_items": null,
            "left": null,
            "margin": null,
            "max_height": null,
            "max_width": null,
            "min_height": null,
            "min_width": null,
            "object_fit": null,
            "object_position": null,
            "order": null,
            "overflow": null,
            "overflow_x": null,
            "overflow_y": null,
            "padding": null,
            "right": null,
            "top": null,
            "visibility": null,
            "width": null
          }
        },
        "2d249f67797d4f7bb90d95d02ed5e23f": {
          "model_module": "@jupyter-widgets/base",
          "model_name": "LayoutModel",
          "model_module_version": "1.2.0",
          "state": {
            "_model_module": "@jupyter-widgets/base",
            "_model_module_version": "1.2.0",
            "_model_name": "LayoutModel",
            "_view_count": null,
            "_view_module": "@jupyter-widgets/base",
            "_view_module_version": "1.2.0",
            "_view_name": "LayoutView",
            "align_content": null,
            "align_items": null,
            "align_self": null,
            "border": null,
            "bottom": null,
            "display": null,
            "flex": null,
            "flex_flow": null,
            "grid_area": null,
            "grid_auto_columns": null,
            "grid_auto_flow": null,
            "grid_auto_rows": null,
            "grid_column": null,
            "grid_gap": null,
            "grid_row": null,
            "grid_template_areas": null,
            "grid_template_columns": null,
            "grid_template_rows": null,
            "height": null,
            "justify_content": null,
            "justify_items": null,
            "left": null,
            "margin": null,
            "max_height": null,
            "max_width": null,
            "min_height": null,
            "min_width": null,
            "object_fit": null,
            "object_position": null,
            "order": null,
            "overflow": null,
            "overflow_x": null,
            "overflow_y": null,
            "padding": null,
            "right": null,
            "top": null,
            "visibility": null,
            "width": null
          }
        },
        "3e1188f24d9648d0b61e297c6c128193": {
          "model_module": "@jupyter-widgets/controls",
          "model_name": "DescriptionStyleModel",
          "model_module_version": "1.5.0",
          "state": {
            "_model_module": "@jupyter-widgets/controls",
            "_model_module_version": "1.5.0",
            "_model_name": "DescriptionStyleModel",
            "_view_count": null,
            "_view_module": "@jupyter-widgets/base",
            "_view_module_version": "1.2.0",
            "_view_name": "StyleView",
            "description_width": ""
          }
        },
        "5e8aa19481b444e99420f9e455b33d11": {
          "model_module": "@jupyter-widgets/base",
          "model_name": "LayoutModel",
          "model_module_version": "1.2.0",
          "state": {
            "_model_module": "@jupyter-widgets/base",
            "_model_module_version": "1.2.0",
            "_model_name": "LayoutModel",
            "_view_count": null,
            "_view_module": "@jupyter-widgets/base",
            "_view_module_version": "1.2.0",
            "_view_name": "LayoutView",
            "align_content": null,
            "align_items": null,
            "align_self": null,
            "border": null,
            "bottom": null,
            "display": null,
            "flex": null,
            "flex_flow": null,
            "grid_area": null,
            "grid_auto_columns": null,
            "grid_auto_flow": null,
            "grid_auto_rows": null,
            "grid_column": null,
            "grid_gap": null,
            "grid_row": null,
            "grid_template_areas": null,
            "grid_template_columns": null,
            "grid_template_rows": null,
            "height": null,
            "justify_content": null,
            "justify_items": null,
            "left": null,
            "margin": null,
            "max_height": null,
            "max_width": null,
            "min_height": null,
            "min_width": null,
            "object_fit": null,
            "object_position": null,
            "order": null,
            "overflow": null,
            "overflow_x": null,
            "overflow_y": null,
            "padding": null,
            "right": null,
            "top": null,
            "visibility": null,
            "width": null
          }
        },
        "989ae77bb0e9453b960c50a72e755632": {
          "model_module": "@jupyter-widgets/controls",
          "model_name": "ProgressStyleModel",
          "model_module_version": "1.5.0",
          "state": {
            "_model_module": "@jupyter-widgets/controls",
            "_model_module_version": "1.5.0",
            "_model_name": "ProgressStyleModel",
            "_view_count": null,
            "_view_module": "@jupyter-widgets/base",
            "_view_module_version": "1.2.0",
            "_view_name": "StyleView",
            "bar_color": null,
            "description_width": ""
          }
        },
        "a476c46f58d04332aa34b0e69de0cc09": {
          "model_module": "@jupyter-widgets/base",
          "model_name": "LayoutModel",
          "model_module_version": "1.2.0",
          "state": {
            "_model_module": "@jupyter-widgets/base",
            "_model_module_version": "1.2.0",
            "_model_name": "LayoutModel",
            "_view_count": null,
            "_view_module": "@jupyter-widgets/base",
            "_view_module_version": "1.2.0",
            "_view_name": "LayoutView",
            "align_content": null,
            "align_items": null,
            "align_self": null,
            "border": null,
            "bottom": null,
            "display": null,
            "flex": null,
            "flex_flow": null,
            "grid_area": null,
            "grid_auto_columns": null,
            "grid_auto_flow": null,
            "grid_auto_rows": null,
            "grid_column": null,
            "grid_gap": null,
            "grid_row": null,
            "grid_template_areas": null,
            "grid_template_columns": null,
            "grid_template_rows": null,
            "height": null,
            "justify_content": null,
            "justify_items": null,
            "left": null,
            "margin": null,
            "max_height": null,
            "max_width": null,
            "min_height": null,
            "min_width": null,
            "object_fit": null,
            "object_position": null,
            "order": null,
            "overflow": null,
            "overflow_x": null,
            "overflow_y": null,
            "padding": null,
            "right": null,
            "top": null,
            "visibility": null,
            "width": null
          }
        },
        "c5b4cca253ac4f8c9eff44de6896d1d1": {
          "model_module": "@jupyter-widgets/controls",
          "model_name": "DescriptionStyleModel",
          "model_module_version": "1.5.0",
          "state": {
            "_model_module": "@jupyter-widgets/controls",
            "_model_module_version": "1.5.0",
            "_model_name": "DescriptionStyleModel",
            "_view_count": null,
            "_view_module": "@jupyter-widgets/base",
            "_view_module_version": "1.2.0",
            "_view_name": "StyleView",
            "description_width": ""
          }
        },
        "018c9888baa34686aab6f556c7a88359": {
          "model_module": "@jupyter-widgets/controls",
          "model_name": "HBoxModel",
          "model_module_version": "1.5.0",
          "state": {
            "_dom_classes": [],
            "_model_module": "@jupyter-widgets/controls",
            "_model_module_version": "1.5.0",
            "_model_name": "HBoxModel",
            "_view_count": null,
            "_view_module": "@jupyter-widgets/controls",
            "_view_module_version": "1.5.0",
            "_view_name": "HBoxView",
            "box_style": "",
            "children": [
              "IPY_MODEL_d52c4937ccbf4ba4897363e1062ba6cb",
              "IPY_MODEL_d276e9157d2c467eb65a767a95fb9229",
              "IPY_MODEL_6328e6d34f8f4a0292a78c242c850e03"
            ],
            "layout": "IPY_MODEL_e66edfb18a3549a0879376599ac07cc9"
          }
        },
        "d52c4937ccbf4ba4897363e1062ba6cb": {
          "model_module": "@jupyter-widgets/controls",
          "model_name": "HTMLModel",
          "model_module_version": "1.5.0",
          "state": {
            "_dom_classes": [],
            "_model_module": "@jupyter-widgets/controls",
            "_model_module_version": "1.5.0",
            "_model_name": "HTMLModel",
            "_view_count": null,
            "_view_module": "@jupyter-widgets/controls",
            "_view_module_version": "1.5.0",
            "_view_name": "HTMLView",
            "description": "",
            "description_tooltip": null,
            "layout": "IPY_MODEL_e625e32c37384a2fb5a3141ad6c6d7d0",
            "placeholder": "​",
            "style": "IPY_MODEL_ba3109633b794363bd2bc75208c8cef8",
            "value": "Downloading: 100%"
          }
        },
        "d276e9157d2c467eb65a767a95fb9229": {
          "model_module": "@jupyter-widgets/controls",
          "model_name": "FloatProgressModel",
          "model_module_version": "1.5.0",
          "state": {
            "_dom_classes": [],
            "_model_module": "@jupyter-widgets/controls",
            "_model_module_version": "1.5.0",
            "_model_name": "FloatProgressModel",
            "_view_count": null,
            "_view_module": "@jupyter-widgets/controls",
            "_view_module_version": "1.5.0",
            "_view_name": "ProgressView",
            "bar_style": "success",
            "description": "",
            "description_tooltip": null,
            "layout": "IPY_MODEL_1d7988870e5f45f4b57219bb6dc6cda2",
            "max": 73727,
            "min": 0,
            "orientation": "horizontal",
            "style": "IPY_MODEL_bc786f81eba44fb2a69312657ca94f83",
            "value": 73727
          }
        },
        "6328e6d34f8f4a0292a78c242c850e03": {
          "model_module": "@jupyter-widgets/controls",
          "model_name": "HTMLModel",
          "model_module_version": "1.5.0",
          "state": {
            "_dom_classes": [],
            "_model_module": "@jupyter-widgets/controls",
            "_model_module_version": "1.5.0",
            "_model_name": "HTMLModel",
            "_view_count": null,
            "_view_module": "@jupyter-widgets/controls",
            "_view_module_version": "1.5.0",
            "_view_name": "HTMLView",
            "description": "",
            "description_tooltip": null,
            "layout": "IPY_MODEL_3e5834917b944f85a01e247b56f443bd",
            "placeholder": "​",
            "style": "IPY_MODEL_4cb094d28b5d414dbeafcd069fd1ea95",
            "value": ""
          }
        },
        "e66edfb18a3549a0879376599ac07cc9": {
          "model_module": "@jupyter-widgets/base",
          "model_name": "LayoutModel",
          "model_module_version": "1.2.0",
          "state": {
            "_model_module": "@jupyter-widgets/base",
            "_model_module_version": "1.2.0",
            "_model_name": "LayoutModel",
            "_view_count": null,
            "_view_module": "@jupyter-widgets/base",
            "_view_module_version": "1.2.0",
            "_view_name": "LayoutView",
            "align_content": null,
            "align_items": null,
            "align_self": null,
            "border": null,
            "bottom": null,
            "display": null,
            "flex": null,
            "flex_flow": null,
            "grid_area": null,
            "grid_auto_columns": null,
            "grid_auto_flow": null,
            "grid_auto_rows": null,
            "grid_column": null,
            "grid_gap": null,
            "grid_row": null,
            "grid_template_areas": null,
            "grid_template_columns": null,
            "grid_template_rows": null,
            "height": null,
            "justify_content": null,
            "justify_items": null,
            "left": null,
            "margin": null,
            "max_height": null,
            "max_width": null,
            "min_height": null,
            "min_width": null,
            "object_fit": null,
            "object_position": null,
            "order": null,
            "overflow": null,
            "overflow_x": null,
            "overflow_y": null,
            "padding": null,
            "right": null,
            "top": null,
            "visibility": null,
            "width": null
          }
        },
        "e625e32c37384a2fb5a3141ad6c6d7d0": {
          "model_module": "@jupyter-widgets/base",
          "model_name": "LayoutModel",
          "model_module_version": "1.2.0",
          "state": {
            "_model_module": "@jupyter-widgets/base",
            "_model_module_version": "1.2.0",
            "_model_name": "LayoutModel",
            "_view_count": null,
            "_view_module": "@jupyter-widgets/base",
            "_view_module_version": "1.2.0",
            "_view_name": "LayoutView",
            "align_content": null,
            "align_items": null,
            "align_self": null,
            "border": null,
            "bottom": null,
            "display": null,
            "flex": null,
            "flex_flow": null,
            "grid_area": null,
            "grid_auto_columns": null,
            "grid_auto_flow": null,
            "grid_auto_rows": null,
            "grid_column": null,
            "grid_gap": null,
            "grid_row": null,
            "grid_template_areas": null,
            "grid_template_columns": null,
            "grid_template_rows": null,
            "height": null,
            "justify_content": null,
            "justify_items": null,
            "left": null,
            "margin": null,
            "max_height": null,
            "max_width": null,
            "min_height": null,
            "min_width": null,
            "object_fit": null,
            "object_position": null,
            "order": null,
            "overflow": null,
            "overflow_x": null,
            "overflow_y": null,
            "padding": null,
            "right": null,
            "top": null,
            "visibility": null,
            "width": null
          }
        },
        "ba3109633b794363bd2bc75208c8cef8": {
          "model_module": "@jupyter-widgets/controls",
          "model_name": "DescriptionStyleModel",
          "model_module_version": "1.5.0",
          "state": {
            "_model_module": "@jupyter-widgets/controls",
            "_model_module_version": "1.5.0",
            "_model_name": "DescriptionStyleModel",
            "_view_count": null,
            "_view_module": "@jupyter-widgets/base",
            "_view_module_version": "1.2.0",
            "_view_name": "StyleView",
            "description_width": ""
          }
        },
        "1d7988870e5f45f4b57219bb6dc6cda2": {
          "model_module": "@jupyter-widgets/base",
          "model_name": "LayoutModel",
          "model_module_version": "1.2.0",
          "state": {
            "_model_module": "@jupyter-widgets/base",
            "_model_module_version": "1.2.0",
            "_model_name": "LayoutModel",
            "_view_count": null,
            "_view_module": "@jupyter-widgets/base",
            "_view_module_version": "1.2.0",
            "_view_name": "LayoutView",
            "align_content": null,
            "align_items": null,
            "align_self": null,
            "border": null,
            "bottom": null,
            "display": null,
            "flex": null,
            "flex_flow": null,
            "grid_area": null,
            "grid_auto_columns": null,
            "grid_auto_flow": null,
            "grid_auto_rows": null,
            "grid_column": null,
            "grid_gap": null,
            "grid_row": null,
            "grid_template_areas": null,
            "grid_template_columns": null,
            "grid_template_rows": null,
            "height": null,
            "justify_content": null,
            "justify_items": null,
            "left": null,
            "margin": null,
            "max_height": null,
            "max_width": null,
            "min_height": null,
            "min_width": null,
            "object_fit": null,
            "object_position": null,
            "order": null,
            "overflow": null,
            "overflow_x": null,
            "overflow_y": null,
            "padding": null,
            "right": null,
            "top": null,
            "visibility": null,
            "width": null
          }
        },
        "bc786f81eba44fb2a69312657ca94f83": {
          "model_module": "@jupyter-widgets/controls",
          "model_name": "ProgressStyleModel",
          "model_module_version": "1.5.0",
          "state": {
            "_model_module": "@jupyter-widgets/controls",
            "_model_module_version": "1.5.0",
            "_model_name": "ProgressStyleModel",
            "_view_count": null,
            "_view_module": "@jupyter-widgets/base",
            "_view_module_version": "1.2.0",
            "_view_name": "StyleView",
            "bar_color": null,
            "description_width": ""
          }
        },
        "3e5834917b944f85a01e247b56f443bd": {
          "model_module": "@jupyter-widgets/base",
          "model_name": "LayoutModel",
          "model_module_version": "1.2.0",
          "state": {
            "_model_module": "@jupyter-widgets/base",
            "_model_module_version": "1.2.0",
            "_model_name": "LayoutModel",
            "_view_count": null,
            "_view_module": "@jupyter-widgets/base",
            "_view_module_version": "1.2.0",
            "_view_name": "LayoutView",
            "align_content": null,
            "align_items": null,
            "align_self": null,
            "border": null,
            "bottom": null,
            "display": null,
            "flex": null,
            "flex_flow": null,
            "grid_area": null,
            "grid_auto_columns": null,
            "grid_auto_flow": null,
            "grid_auto_rows": null,
            "grid_column": null,
            "grid_gap": null,
            "grid_row": null,
            "grid_template_areas": null,
            "grid_template_columns": null,
            "grid_template_rows": null,
            "height": null,
            "justify_content": null,
            "justify_items": null,
            "left": null,
            "margin": null,
            "max_height": null,
            "max_width": null,
            "min_height": null,
            "min_width": null,
            "object_fit": null,
            "object_position": null,
            "order": null,
            "overflow": null,
            "overflow_x": null,
            "overflow_y": null,
            "padding": null,
            "right": null,
            "top": null,
            "visibility": null,
            "width": null
          }
        },
        "4cb094d28b5d414dbeafcd069fd1ea95": {
          "model_module": "@jupyter-widgets/controls",
          "model_name": "DescriptionStyleModel",
          "model_module_version": "1.5.0",
          "state": {
            "_model_module": "@jupyter-widgets/controls",
            "_model_module_version": "1.5.0",
            "_model_name": "DescriptionStyleModel",
            "_view_count": null,
            "_view_module": "@jupyter-widgets/base",
            "_view_module_version": "1.2.0",
            "_view_name": "StyleView",
            "description_width": ""
          }
        }
      }
    }
  },
  "nbformat": 4,
  "nbformat_minor": 0
}
